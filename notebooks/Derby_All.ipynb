{
 "cells": [
  {
   "cell_type": "markdown",
   "metadata": {},
   "source": [
    "### モジュールインポート"
   ]
  },
  {
   "cell_type": "code",
   "execution_count": 1,
   "metadata": {},
   "outputs": [],
   "source": [
    "import csv\n",
    "import requests\n",
    "import bs4\n",
    "import re\n",
    "import os\n",
    "import time\n",
    "import numpy as np\n",
    "import pandas as pd\n",
    "import matplotlib.pyplot as plt\n",
    "import seaborn as sns\n",
    "from enum import Enum\n",
    "import derby_func as func\n",
    "import collections"
   ]
  },
  {
   "cell_type": "markdown",
   "metadata": {},
   "source": [
    "### 定数宣言"
   ]
  },
  {
   "cell_type": "code",
   "execution_count": 2,
   "metadata": {},
   "outputs": [],
   "source": [
    "RACE = \"/race/\"\n",
    "CSV_DIR = \"csv\"\n",
    "URL_BASE = \"https://db.netkeiba.com\"\n",
    "URL_RACE = \"https://race.netkeiba.com/race/shutuba.html?race_id=\"\n",
    "\n",
    "RACE_TABLE_NAME = \"race_table_01 nk_tb_common\""
   ]
  },
  {
   "cell_type": "code",
   "execution_count": 8,
   "metadata": {},
   "outputs": [],
   "source": [
    "TRAIN_HORSE_DATA_PATH = CSV_DIR + \"/horse/\"\n",
    "TEST_RACE_ID = \"202105030411\"\n",
    "TRAIN_RACE_ID = func.get_train_race_id(func.get_text_from_page('https://race.netkeiba.com/special/index.html?id=0065'))\n",
    "RACE_DATA_COLUMNS = func.race_data_columns()\n",
    "HORSE_DATA_COLUMNS = func.horse_data_columns()\n",
    "RACE_RANK = func.race_rank()"
   ]
  },
  {
   "cell_type": "code",
   "execution_count": 4,
   "metadata": {
    "scrolled": false
   },
   "outputs": [
    {
     "data": {
      "text/plain": [
       "['202005030411',\n",
       " '201905030411',\n",
       " '201805030411',\n",
       " '201705030411',\n",
       " '201605030411',\n",
       " '201505030411',\n",
       " '201405030411',\n",
       " '201305030411',\n",
       " '201205030411',\n",
       " '201105030811',\n",
       " '201005030811',\n",
       " '200905030811',\n",
       " '200805030811',\n",
       " '200705030811',\n",
       " '200605030811',\n",
       " '200505030811',\n",
       " '200405030811',\n",
       " '200305020811',\n",
       " '200205040811',\n",
       " '200105030811',\n",
       " '200005030811']"
      ]
     },
     "execution_count": 4,
     "metadata": {},
     "output_type": "execute_result"
    }
   ],
   "source": [
    "TRAIN_RACE_ID"
   ]
  },
  {
   "cell_type": "markdown",
   "metadata": {},
   "source": [
    "### レースデータ取得"
   ]
  },
  {
   "cell_type": "code",
   "execution_count": 5,
   "metadata": {},
   "outputs": [],
   "source": [
    "def correct_train_data(race_id):\n",
    "    url = URL_BASE + RACE + race_id\n",
    "    text = func.get_text_from_page(url)\n",
    "    race_name = func.get_name_from_text(text).replace('競馬データベース - netkeiba.com', '').split('｜')\n",
    "    if not os.path.exists(CSV_DIR + \"/horse/\" + race_id[0:4] + race_name[0]):\n",
    "        os.makedirs(CSV_DIR + \"/horse/\" + race_id[0:4] + race_name[0])\n",
    "    if not os.path.exists(CSV_DIR + RACE + race_name[0]):\n",
    "        os.makedirs(CSV_DIR + RACE + race_name[0])\n",
    "    (info, horse_id, horse_names) = func.get_old_race_info_from_text(False, text, RACE_TABLE_NAME, race_id, race_name[0])\n",
    "    file_path = CSV_DIR+ RACE + race_name[0] + \"/\" + race_id[0:4] + \".csv\"\n",
    "    with open(file_path, \"w\", newline=\"\", encoding='shift_jis') as f:\n",
    "        writer = csv.writer(f)\n",
    "        writer.writerows(info)"
   ]
  },
  {
   "cell_type": "code",
   "execution_count": 6,
   "metadata": {
    "scrolled": true
   },
   "outputs": [
    {
     "name": "stdout",
     "output_type": "stream",
     "text": [
      "ダイワキャグニー\n",
      "ソーグリッタリング\n",
      "トーラスジェミニ\n",
      "アンドラステ\n",
      "アトミックフォース\n",
      "サトノアーサー\n",
      "ピースワンパラディ\n",
      "ゴーフォザサミット\n",
      "サトノガーネット\n",
      "レイエンダ\n",
      "ギベオン\n",
      "マイネルファンロン\n",
      "サラキア\n",
      "アイスストーム\n",
      "マイネルハニー\n",
      "シャドウディーヴァ\n",
      "インビジブルレイズ\n",
      "エメラルファイト\n",
      "レイエンダ\n",
      "サラキア\n",
      "ソーグリッタリング\n",
      "ショウナンバッハ\n",
      "ブレスジャーニー\n",
      "プロディガルサン\n",
      "アンノートル\n",
      "ストーンウェア\n",
      "カラビナ\n",
      "ミッキースワロー\n",
      "ハクサンルドルフ\n",
      "ダノンキングダム\n",
      "アップクォーク\n",
      "ソウルスターリング\n",
      "サトノアーサー\n",
      "ハクサンルドルフ\n",
      "グリュイエール\n",
      "サーブルオール\n",
      "エアアンセム\n",
      "ベルキャニオン\n",
      "ゴールドサーベラス\n",
      "バーディーイーグル\n",
      "マイネルフロスト\n",
      "ブラックスピネル\n",
      "マイネルミラノ\n",
      "スマートオーディン\n",
      "トーセンマタコイヤ\n",
      "ダイワキャグニー\n",
      "アデイインザライフ\n",
      "シャイニープリンス\n",
      "ダッシングブレイズ\n",
      "アストラエンブレム\n",
      "マイネルハニー\n",
      "クラリティシチー\n",
      "バーディーイーグル\n",
      "タイセイサミット\n",
      "マイネルミラノ\n",
      "デンコウアンジュ\n",
      "フルーキー\n",
      "ナスノセイカン\n",
      "ベルーフ\n",
      "ヒストリカル\n",
      "カムフィー\n",
      "メドウラーク\n",
      "クラリティスカイ\n",
      "レッドレイヴン\n",
      "トーセンレーヴ\n",
      "パドルウィール\n",
      "ルージュバック\n",
      "フルーキー\n",
      "マイネルミラノ\n",
      "ロジチャリス\n",
      "レコンダイト\n",
      "ヒストリカル\n",
      "アルバートドック\n",
      "サトノギャラント\n",
      "ラングレー\n",
      "エキストラエンド\n",
      "ショウナンバッハ\n",
      "アルマディヴァン\n",
      "メイショウヤタロウ\n",
      "エックスマーク\n",
      "ダービーフィズ\n",
      "ステラウインド\n",
      "ナカヤマナイト\n",
      "マイネルホウオウ\n",
      "エイシンヒカリ\n",
      "サトノアラジン\n",
      "ディサイファ\n",
      "フルーキー\n",
      "ヒラボクディープ\n",
      "ペルーサ\n",
      "フェスティヴタロー\n",
      "ユールシンギング\n",
      "アーデント\n",
      "フルアクセル\n",
      "マイネルホウオウ\n",
      "ノーステア\n",
      "ゲシュタルト\n",
      "ディサイファ\n",
      "マイネルラクリマ\n",
      "ダークシャドウ\n",
      "タマモベストプレイ\n",
      "ダノンヨーヨー\n",
      "マジェスティハーツ\n",
      "タムロスカイ\n",
      "カネトシディオス\n",
      "トーセンジャガー\n",
      "ゴールデンナンバー\n",
      "レインスティック\n",
      "カルドブレッサ\n",
      "シルクアーネスト\n",
      "アーデント\n",
      "ペルーサ\n",
      "フェスティヴタロー\n",
      "パドトロワ\n",
      "クラレント\n",
      "ジャスタウェイ\n",
      "サンレイレーザー\n",
      "リルダヴァル\n",
      "ファイナルフォーム\n",
      "サクラアルディート\n",
      "サトノアポロ\n",
      "シルクアーネスト\n",
      "アカンサス\n",
      "アドマイヤタイシ\n",
      "セイウンジャガーズ\n",
      "ドリームバスケット\n",
      "タムロスカイ\n",
      "スズジュピター\n",
      "トーセンレーヴ\n",
      "ダノンシャーク\n",
      "マイネルスターリー\n",
      "セイクレットレーヴ\n",
      "シルクアーネスト\n",
      "レッドデイヴィス\n",
      "メイショウカンパク\n",
      "オセアニアボス\n",
      "ダイワファルコン\n",
      "ヤマカツハクリュウ\n",
      "モンテエン\n",
      "レディアルバローザ\n",
      "トップゾーン\n",
      "キングストリート\n",
      "ダノンスパシーバ\n",
      "サンライズベガ\n",
      "アクシオン\n",
      "レッツゴーキリシマ\n",
      "ダークシャドウ\n",
      "エーブチェアマン\n",
      "セイクリッドバレー\n",
      "キャプテンベガ\n",
      "ミッキーパンプキン\n",
      "ダンツホウテイ\n",
      "アニメイトバイオ\n",
      "ドリームゼニス\n",
      "マッハヴェロシティ\n",
      "アクシオン\n",
      "アロマカフェ\n",
      "レインフォーレスト\n",
      "スズジュピター\n",
      "チョウカイファイト\n",
      "マストビートゥルー\n",
      "ヤマニンウイスカー\n",
      "ロードキャニオン\n",
      "ハンソデバンド\n",
      "セイウンワンダー\n",
      "シルポート\n",
      "キャプテンベガ\n",
      "セイクリッドバレー\n",
      "ゴールデンダリア\n",
      "ストロングリターン\n",
      "デストラメンテ\n",
      "トウショウウェイヴ\n",
      "ブレーヴハート\n",
      "ラインプレアー\n",
      "ドモナラズ\n",
      "サンライズマックス\n",
      "テイエムアタック\n",
      "ゼンノグッドウッド\n",
      "キョウエイストーム\n",
      "タケミカヅチ\n",
      "ニルヴァーナ\n",
      "ナイアガラ\n",
      "シンゲン\n",
      "ヒカルオオゾラ\n",
      "キャプテンベガ\n",
      "ショウナンラノビア\n",
      "トウショウウェイヴ\n",
      "マストビートゥルー\n",
      "エリモエクスパイア\n",
      "チョウサンデイ\n",
      "ホッコーパドゥシャ\n",
      "アーネストリー\n",
      "メイショウレガーロ\n",
      "ミストラルクルーズ\n",
      "トーセンクラウン\n",
      "ナスノストローク\n",
      "ダイシングロウ\n",
      "カンファーベスト\n",
      "ライムキャンディ\n",
      "ニルヴァーナ\n",
      "サンライズマックス\n",
      "ヒカルオオゾラ\n",
      "グラスボンバー\n",
      "トウショウヴォイス\n",
      "マイネルキッツ\n",
      "ショウワモダン\n",
      "トーホウアラン\n",
      "ダブルティンパニー\n",
      "ファストロック\n",
      "カゼノコウテイ\n",
      "ミュージックホーク\n",
      "ドリーミーオペラ\n",
      "ブライトトゥモロー\n",
      "イクスキューズ\n",
      "ユノナゲット\n",
      "ソーユアフロスト\n",
      "メイショウレガーロ\n",
      "アップドラフト\n",
      "エイシンデピュティ\n",
      "ブライトトゥモロー\n",
      "サイレントプライド\n",
      "ファイングレイン\n",
      "トウショウカレッジ\n",
      "ダンスインザモア\n",
      "ホッコーソレソレー\n",
      "サンバレンティン\n",
      "デアリングハート\n",
      "ピサノパテック\n",
      "タイガーカフェ\n",
      "ソーユアフロスト\n",
      "マイネルレコルト\n",
      "インマイアイズ\n",
      "ローマンエンパイア\n",
      "フジサイレンス\n",
      "グラスポジション\n",
      "スズノマーチ\n",
      "トップガンジョー\n",
      "グラスボンバー\n",
      "マチカネキララ\n",
      "デアリングハート\n",
      "ニシノデュー\n",
      "ダイワバンディット\n",
      "シェイクマイハート\n",
      "サイドワインダー\n",
      "コンラッド\n",
      "ルーベンスメモリー\n",
      "クラフトワーク\n",
      "カナハラドラゴン\n",
      "ツルマルヨカニセ\n",
      "ペールギュント\n",
      "タイガーカフェ\n",
      "ダンスインザモア\n",
      "ロードフラッグ\n",
      "スズノマーチ\n",
      "スズノマーチ\n",
      "グランリーオ\n",
      "ダイワレイダース\n",
      "サイレントディール\n",
      "ボーンキング\n",
      "シャイニンルビー\n",
      "トーセンダンディ\n",
      "ウインクリューガー\n",
      "マッキーマックス\n",
      "タカラシャーディー\n",
      "エリモマキシム\n",
      "マチカネメニモミヨ\n",
      "ロードフラッグ\n",
      "カンファーベスト\n",
      "アラタマインディ\n",
      "ブラックカフェ\n",
      "ウインジェネラーレ\n",
      "マイネルアムンゼン\n",
      "ダンツジャッジ\n",
      "ワールドスケール\n",
      "ハレルヤサンデー\n",
      "トーホウシデン\n",
      "ヴィータローザ\n",
      "トーセンダンディ\n",
      "イシノミューズ\n",
      "タケハナオペラ\n",
      "ヤマノブリザード\n",
      "ハスラー\n",
      "リキアイタイカン\n",
      "ウインクリューガー\n",
      "スプリングシオン\n",
      "ミスキャスト\n",
      "ダイワジアン\n",
      "マイネルソロモン\n",
      "ストロングブラッド\n",
      "マイネルアムンゼン\n",
      "ローマンエンパイア\n",
      "エーピーグリード\n",
      "タイガーカフェ\n",
      "スマイルトゥモロー\n",
      "トレジャー\n",
      "ノブレスオブリッジ\n",
      "タニノエタニティ\n",
      "クラフトマンシップ\n",
      "ヤマノブリザード\n",
      "ヒマラヤンブルー\n",
      "メイショウキオウ\n",
      "ツジノワンダー\n",
      "ニホンピロハーレー\n",
      "ミヤギロドリゴ\n",
      "テンジンオーカン\n",
      "アラタマインディ\n",
      "ゲイリートマホーク\n",
      "ジョウテンブレーヴ\n",
      "エアスマップ\n",
      "ジェミードレス\n",
      "アドマイヤカイザー\n",
      "ビッグゴールド\n",
      "キングフィデリア\n",
      "ラムセスロード\n",
      "シンボリオレゴン\n",
      "スエヒロコマンダー\n",
      "ダイヤモンドビコー\n",
      "エイシンスペンサー\n",
      "ダービーレグノ\n",
      "チアズブライトリー\n",
      "シンコウエドワード\n",
      "フォーレルアゲイン\n",
      "サイレントセイバー\n",
      "グランパドドゥ\n",
      "ケージームテキ\n",
      "アドマイヤカイザー\n",
      "トーヨーデヘア\n",
      "バンブーマリアッチ\n",
      "ヒコーキグモ\n",
      "ロサード\n",
      "トウショウノア\n",
      "アクティブバイオ\n",
      "イーグルカフェ\n",
      "ニホンピロスワン\n",
      "ザカリヤ\n",
      "トッププロテクター\n",
      "サイレントセイバー\n",
      "ルネッサンス\n",
      "ジーティーボス\n",
      "リベレーション\n",
      "ブラックタキシード\n",
      "マチカネホクシン\n",
      "グリーンブリッツ\n",
      "アメリカンボス\n",
      "ダイワテキサス\n",
      "レガシーハンター\n",
      "スエヒロコマンダー\n",
      "トゥザヴィクトリー\n",
      "サクラナミキオー\n",
      "センターフレッシュ\n",
      "ヒコーキグモ\n",
      "エイダイクイン\n",
      "サーストンフライト\n",
      "アンブラスモア\n",
      "エイシンエーケン\n",
      "ビッグバイキング\n",
      "エイシンビンセンス\n",
      "ミヤギロドリゴ\n"
     ]
    }
   ],
   "source": [
    "for i in range(len(TRAIN_RACE_ID)):\n",
    "    correct_train_data(TRAIN_RACE_ID[i])\n",
    "    time.sleep(3) # サーバーへの負荷を考慮してディレイを入れる。"
   ]
  },
  {
   "cell_type": "code",
   "execution_count": 9,
   "metadata": {
    "scrolled": false
   },
   "outputs": [
    {
     "name": "stdout",
     "output_type": "stream",
     "text": [
      "プレシャスブルー\n",
      "マイラプソディ\n",
      "ヴェロックス\n",
      "セダブリランテス\n",
      "エアアルマス\n",
      "ヒュミドール\n",
      "ファルコニア\n",
      "アルジャンナ\n",
      "ヤシャマル\n",
      "ワンダープチュック\n",
      "ニシノデイジー\n",
      "ミラアイトーン\n",
      "サトノフラッグ\n",
      "ガロアクリーク\n",
      "ザダル\n",
      "シュリ\n",
      "アドマイヤビルゴ\n",
      "アトミックフォース\n"
     ]
    }
   ],
   "source": [
    "if __name__ == '__main__':\n",
    "    url = URL_RACE + TEST_RACE_ID\n",
    "    text = func.get_text_from_page(url)\n",
    "    race_name = func.get_name_from_text(text).replace(' - netkeiba.com', '').split('(')\n",
    "    if not os.path.exists(CSV_DIR + \"/horse/\" + TEST_RACE_ID[0:4] + race_name[0]):\n",
    "        os.makedirs(CSV_DIR + \"/horse/\" + TEST_RACE_ID[0:4] + race_name[0])\n",
    "    (info, horse_id, horse_names) = func.get_race_info_from_text(text, \"Shutuba_Table RaceTable01 ShutubaTable\", TEST_RACE_ID[0:4], race_name[0])\n",
    "    file_path = CSV_DIR+ RACE + TEST_RACE_ID[0:4] + race_name[0] + \".csv\"\n",
    "    with open(file_path, \"w\", newline=\"\", encoding='shift_jis') as f:\n",
    "        writer = csv.writer(f)\n",
    "        writer.writerows(info)"
   ]
  },
  {
   "cell_type": "code",
   "execution_count": 10,
   "metadata": {},
   "outputs": [],
   "source": [
    "RACE_NAME = race_name[0]\n",
    "TRAIN_RACE_DATA_PATH = CSV_DIR+ RACE + RACE_NAME + \"/\""
   ]
  },
  {
   "cell_type": "markdown",
   "metadata": {},
   "source": [
    "### DataFrame読み込み、前処理"
   ]
  },
  {
   "cell_type": "code",
   "execution_count": 12,
   "metadata": {},
   "outputs": [],
   "source": [
    "df_races = []\n",
    "db_horses = {}\n",
    "for i in range(len(TRAIN_RACE_ID)):\n",
    "    df_races.append(pd.read_csv(TRAIN_RACE_DATA_PATH + str(int(TRAIN_RACE_ID[len(TRAIN_RACE_ID) - 1][:4]) + i) + \".csv\", header=None, names = RACE_DATA_COLUMNS, encoding='shift_jis'))"
   ]
  },
  {
   "cell_type": "code",
   "execution_count": 13,
   "metadata": {},
   "outputs": [],
   "source": [
    "def race_score_define(row):\n",
    "    rank_score = 0\n",
    "    for rank in RACE_RANK:\n",
    "        if (rank.rank in row['race_name']):\n",
    "            rank_score = rank.score\n",
    "    return rank_score"
   ]
  },
  {
   "cell_type": "code",
   "execution_count": 14,
   "metadata": {},
   "outputs": [],
   "source": [
    "def road_horse_data(row, num):\n",
    "    road_path = TRAIN_HORSE_DATA_PATH + str(int(TRAIN_RACE_ID[len(TRAIN_RACE_ID) - 1][:4]) + num) + RACE_NAME + \"/\" + row['horse_name'] + \".csv\"\n",
    "    path = str(int(TRAIN_RACE_ID[len(TRAIN_RACE_ID) - 1][:4]) + num) + row['horse_name']\n",
    "    df_tmp = pd.read_csv(road_path, header=None, names = HORSE_DATA_COLUMNS, encoding='shift_jis')\n",
    "    df_tmp = df_tmp.drop(columns=['time_score', \"ground_score\", 'popularity', 'odds', 'R', 'winner', 'reward', \"video\" ,\"coment\", \"coment_2\",])\n",
    "    df_tmp.dropna(how='all', axis = 1, inplace=True)\n",
    "    df_tmp['ground_type'] = df_tmp.apply(lambda x: x['distance'][:1], axis = 1)\n",
    "    df_tmp['distance'] = df_tmp.apply(lambda x: x['distance'][1:], axis = 1)\n",
    "    df_tmp['race_rank_score'] = df_tmp.apply(race_score_define, axis = 1)\n",
    "    df_tmp.dropna(how='any', axis = 0, inplace=True)\n",
    "    db_horses[path] = df_tmp.reset_index()\n",
    "    return path"
   ]
  },
  {
   "cell_type": "code",
   "execution_count": 15,
   "metadata": {},
   "outputs": [],
   "source": [
    "def serch_past_races(row, num):\n",
    "    df_horse = db_horses[row['horse_data_key']]\n",
    "    df_horse['race_date_judge'] = df_horse.apply(lambda x: True if str(x['race_id']) == str(TRAIN_RACE_ID[len(TRAIN_RACE_ID) - 1 - num]) else False, axis = 1)\n",
    "    index = df_horse[df_horse['race_date_judge'] == True].index\n",
    "    df_horse = df_horse.iloc[index[0] + 1:]\n",
    "    db_horses[row['horse_data_key']] = df_horse\n",
    "    if (df_horse.shape[0] > 0):\n",
    "        return index[0]\n",
    "    else :\n",
    "        return 0"
   ]
  },
  {
   "cell_type": "code",
   "execution_count": 16,
   "metadata": {},
   "outputs": [],
   "source": [
    "def rank_to_int(df):\n",
    "    df_2 = df.copy()\n",
    "    df_2 = df_2[(df_2['rank'] != \"取\") & (df_2['rank'] != \"中\") & (df_2['rank'] != \"除\")]\n",
    "    df_2['rank'] = df_2['rank'].apply(lambda x: int(re.sub(r\"\\D\", \"\", str(x))))\n",
    "    return df_2"
   ]
  },
  {
   "cell_type": "code",
   "execution_count": 17,
   "metadata": {},
   "outputs": [],
   "source": [
    "def calc_past_rank_ave(row):\n",
    "    df_horse = db_horses[row['horse_data_key']]\n",
    "    df_horse = rank_to_int(df_horse)\n",
    "    df_horse['race_score'] = df_horse.apply(lambda x: 0 if x['rank'] > 5 else (x['race_rank_score'] * (4 - x['rank']) * 10) / x['head_count'], axis = 1)\n",
    "    mean = df_horse['rank'].mean(axis = 0)\n",
    "    db_horses[row['horse_data_key']] = df_horse\n",
    "    return mean"
   ]
  },
  {
   "cell_type": "code",
   "execution_count": 18,
   "metadata": {
    "scrolled": true
   },
   "outputs": [
    {
     "data": {
      "text/html": [
       "<div>\n",
       "<style scoped>\n",
       "    .dataframe tbody tr th:only-of-type {\n",
       "        vertical-align: middle;\n",
       "    }\n",
       "\n",
       "    .dataframe tbody tr th {\n",
       "        vertical-align: top;\n",
       "    }\n",
       "\n",
       "    .dataframe thead th {\n",
       "        text-align: right;\n",
       "    }\n",
       "</style>\n",
       "<table border=\"1\" class=\"dataframe\">\n",
       "  <thead>\n",
       "    <tr style=\"text-align: right;\">\n",
       "      <th></th>\n",
       "      <th>rank</th>\n",
       "      <th>frame_number</th>\n",
       "      <th>horse_number</th>\n",
       "      <th>horse_name</th>\n",
       "      <th>aptitude_course</th>\n",
       "      <th>aptitude_distance</th>\n",
       "      <th>aptitude_run</th>\n",
       "      <th>aptitude_growth</th>\n",
       "      <th>aptitude_ground</th>\n",
       "      <th>age</th>\n",
       "      <th>...</th>\n",
       "      <th>popularity</th>\n",
       "      <th>horse_weight</th>\n",
       "      <th>horse_data_key</th>\n",
       "      <th>race_count</th>\n",
       "      <th>past_rank_ave</th>\n",
       "      <th>past_rank_med</th>\n",
       "      <th>before_race_rank</th>\n",
       "      <th>past_rank_std</th>\n",
       "      <th>max_pred_rank</th>\n",
       "      <th>ave_race_score</th>\n",
       "    </tr>\n",
       "  </thead>\n",
       "  <tbody>\n",
       "    <tr>\n",
       "      <th>0</th>\n",
       "      <td>1</td>\n",
       "      <td>3</td>\n",
       "      <td>6</td>\n",
       "      <td>ダイワキャグニー</td>\n",
       "      <td>95</td>\n",
       "      <td>58</td>\n",
       "      <td>85</td>\n",
       "      <td>39</td>\n",
       "      <td>65</td>\n",
       "      <td>牡6</td>\n",
       "      <td>...</td>\n",
       "      <td>9</td>\n",
       "      <td>500(-16)</td>\n",
       "      <td>2020ダイワキャグニー</td>\n",
       "      <td>6</td>\n",
       "      <td>5.73913</td>\n",
       "      <td>4.0</td>\n",
       "      <td>14</td>\n",
       "      <td>4.873093</td>\n",
       "      <td>0</td>\n",
       "      <td>0.000000</td>\n",
       "    </tr>\n",
       "    <tr>\n",
       "      <th>1</th>\n",
       "      <td>2</td>\n",
       "      <td>1</td>\n",
       "      <td>1</td>\n",
       "      <td>ソーグリッタリング</td>\n",
       "      <td>116</td>\n",
       "      <td>87</td>\n",
       "      <td>116</td>\n",
       "      <td>116</td>\n",
       "      <td>87</td>\n",
       "      <td>牡6</td>\n",
       "      <td>...</td>\n",
       "      <td>5</td>\n",
       "      <td>486(+8)</td>\n",
       "      <td>2020ソーグリッタリング</td>\n",
       "      <td>3</td>\n",
       "      <td>3.12000</td>\n",
       "      <td>2.0</td>\n",
       "      <td>2</td>\n",
       "      <td>2.521904</td>\n",
       "      <td>0</td>\n",
       "      <td>17.647059</td>\n",
       "    </tr>\n",
       "    <tr>\n",
       "      <th>2</th>\n",
       "      <td>3</td>\n",
       "      <td>8</td>\n",
       "      <td>18</td>\n",
       "      <td>トーラスジェミニ</td>\n",
       "      <td>116</td>\n",
       "      <td>58</td>\n",
       "      <td>116</td>\n",
       "      <td>58</td>\n",
       "      <td>96</td>\n",
       "      <td>牡4</td>\n",
       "      <td>...</td>\n",
       "      <td>18</td>\n",
       "      <td>478(-4)</td>\n",
       "      <td>2020トーラスジェミニ</td>\n",
       "      <td>11</td>\n",
       "      <td>6.50000</td>\n",
       "      <td>6.5</td>\n",
       "      <td>11</td>\n",
       "      <td>4.366539</td>\n",
       "      <td>0</td>\n",
       "      <td>0.000000</td>\n",
       "    </tr>\n",
       "    <tr>\n",
       "      <th>3</th>\n",
       "      <td>4</td>\n",
       "      <td>8</td>\n",
       "      <td>16</td>\n",
       "      <td>アンドラステ</td>\n",
       "      <td>116</td>\n",
       "      <td>29</td>\n",
       "      <td>87</td>\n",
       "      <td>58</td>\n",
       "      <td>101</td>\n",
       "      <td>牝4</td>\n",
       "      <td>...</td>\n",
       "      <td>4</td>\n",
       "      <td>466(0)</td>\n",
       "      <td>2020アンドラステ</td>\n",
       "      <td>3</td>\n",
       "      <td>1.50000</td>\n",
       "      <td>1.0</td>\n",
       "      <td>1</td>\n",
       "      <td>0.836660</td>\n",
       "      <td>1</td>\n",
       "      <td>36.666667</td>\n",
       "    </tr>\n",
       "    <tr>\n",
       "      <th>4</th>\n",
       "      <td>5</td>\n",
       "      <td>6</td>\n",
       "      <td>11</td>\n",
       "      <td>アトミックフォース</td>\n",
       "      <td>116</td>\n",
       "      <td>58</td>\n",
       "      <td>116</td>\n",
       "      <td>116</td>\n",
       "      <td>58</td>\n",
       "      <td>牡4</td>\n",
       "      <td>...</td>\n",
       "      <td>8</td>\n",
       "      <td>476(-2)</td>\n",
       "      <td>2020アトミックフォース</td>\n",
       "      <td>5</td>\n",
       "      <td>4.00000</td>\n",
       "      <td>2.0</td>\n",
       "      <td>2</td>\n",
       "      <td>3.234430</td>\n",
       "      <td>0</td>\n",
       "      <td>7.878788</td>\n",
       "    </tr>\n",
       "  </tbody>\n",
       "</table>\n",
       "<p>5 rows × 22 columns</p>\n",
       "</div>"
      ],
      "text/plain": [
       "   rank  frame_number  horse_number horse_name  aptitude_course  \\\n",
       "0     1             3             6   ダイワキャグニー               95   \n",
       "1     2             1             1  ソーグリッタリング              116   \n",
       "2     3             8            18   トーラスジェミニ              116   \n",
       "3     4             8            16     アンドラステ              116   \n",
       "4     5             6            11  アトミックフォース              116   \n",
       "\n",
       "   aptitude_distance  aptitude_run  aptitude_growth  aptitude_ground age  ...  \\\n",
       "0                 58            85               39               65  牡6  ...   \n",
       "1                 87           116              116               87  牡6  ...   \n",
       "2                 58           116               58               96  牡4  ...   \n",
       "3                 29            87               58              101  牝4  ...   \n",
       "4                 58           116              116               58  牡4  ...   \n",
       "\n",
       "   popularity  horse_weight  horse_data_key race_count past_rank_ave  \\\n",
       "0           9      500(-16)    2020ダイワキャグニー          6       5.73913   \n",
       "1           5       486(+8)   2020ソーグリッタリング          3       3.12000   \n",
       "2          18       478(-4)    2020トーラスジェミニ         11       6.50000   \n",
       "3           4        466(0)      2020アンドラステ          3       1.50000   \n",
       "4           8       476(-2)   2020アトミックフォース          5       4.00000   \n",
       "\n",
       "   past_rank_med  before_race_rank  past_rank_std  max_pred_rank  \\\n",
       "0            4.0                14       4.873093              0   \n",
       "1            2.0                 2       2.521904              0   \n",
       "2            6.5                11       4.366539              0   \n",
       "3            1.0                 1       0.836660              1   \n",
       "4            2.0                 2       3.234430              0   \n",
       "\n",
       "   ave_race_score  \n",
       "0        0.000000  \n",
       "1       17.647059  \n",
       "2        0.000000  \n",
       "3       36.666667  \n",
       "4        7.878788  \n",
       "\n",
       "[5 rows x 22 columns]"
      ]
     },
     "execution_count": 18,
     "metadata": {},
     "output_type": "execute_result"
    }
   ],
   "source": [
    "df_races_2 = df_races.copy()\n",
    "drop_columns = ['trainer', 'owner', 'jockey', 'reward', 'difference', 'lap_time', 'final_3F', 'time', 'time_score']\n",
    "for i in range(len(df_races_2)):\n",
    "    df_races_2[i].fillna({'time_score': '**'})\n",
    "    df_races_2[i].dropna(how='all', axis = 1, inplace=True)\n",
    "    df_races_2[i] = rank_to_int(df_races_2[i])\n",
    "    df_races_2[i] = df_races_2[i].drop(columns = drop_columns, errors = 'ignore')\n",
    "    df_races_2[i]['horse_data_key'] = df_races_2[i].apply(road_horse_data, num = i, axis = 1)\n",
    "    df_races_2[i]['race_count'] = df_races_2[i].apply(serch_past_races, num = i, axis = 1)\n",
    "    df_races_2[i] = df_races_2[i][df_races_2[i]['race_count'] > 0]\n",
    "    df_races_2[i]['past_rank_ave'] = df_races_2[i].apply(calc_past_rank_ave, axis = 1)\n",
    "    df_races_2[i]['past_rank_med'] = df_races_2[i].apply(lambda x: db_horses[x['horse_data_key']]['rank'].median(axis = 0), axis = 1)\n",
    "    df_races_2[i]['before_race_rank'] = df_races_2[i].apply(lambda x: int(db_horses[x['horse_data_key']]['rank'][x['race_count'] + 1]), axis = 1)\n",
    "    df_races_2[i]['past_rank_std'] = df_races_2[i].apply(lambda x: db_horses[x['horse_data_key']]['rank'].std(axis = 0), axis = 1)\n",
    "    df_races_2[i]['max_pred_rank'] = df_races_2[i].apply(lambda x: 1 if (x['past_rank_ave'] + x['past_rank_std']) < 5 else 0, axis = 1)\n",
    "    df_races_2[i]['ave_race_score'] = df_races_2[i].apply(lambda x: db_horses[x['horse_data_key']]['race_score'].median(axis = 0), axis = 1)\n",
    "df_races_2[20].head(5)"
   ]
  },
  {
   "cell_type": "markdown",
   "metadata": {},
   "source": [
    "### レースの特徴表示"
   ]
  },
  {
   "cell_type": "code",
   "execution_count": 19,
   "metadata": {
    "scrolled": true
   },
   "outputs": [
    {
     "data": {
      "text/plain": [
       "339"
      ]
     },
     "execution_count": 19,
     "metadata": {},
     "output_type": "execute_result"
    }
   ],
   "source": [
    "df_all_races = pd.concat(df_races_2)\n",
    "len(df_all_races)"
   ]
  },
  {
   "cell_type": "code",
   "execution_count": 20,
   "metadata": {},
   "outputs": [],
   "source": [
    "df_all_races_rank = []\n",
    "df_all_races_rank.append(df_all_races[df_all_races['rank'] == 1])\n",
    "df_all_races_rank.append(df_all_races[df_all_races['rank'] <= 3])\n",
    "df_all_races_rank.append(df_all_races)"
   ]
  },
  {
   "cell_type": "code",
   "execution_count": 21,
   "metadata": {},
   "outputs": [],
   "source": [
    "def plot_count_columns(column_name, _bins = 20, _range = (0, 20)):\n",
    "    title = [\"Rank1\", \"InTicket\", \"All\"]\n",
    "    fig = plt.figure(figsize=(10, 10))\n",
    "    for i in range(len(df_all_races_rank)):\n",
    "        plt.subplot(len(df_all_races_rank), 3, i+1)\n",
    "        plt.title(title[i] + \"_\" + column_name)\n",
    "        plt.hist(df_all_races_rank[i][column_name], bins=_bins, range = _range)\n",
    "        plt.tight_layout()\n",
    "        print(title[i] + \"：サンプル数\" + str(len(df_all_races_rank[i])))"
   ]
  },
  {
   "cell_type": "markdown",
   "metadata": {},
   "source": [
    "過去20年で1着及び馬券内だった馬の枠番"
   ]
  },
  {
   "cell_type": "code",
   "execution_count": 22,
   "metadata": {
    "scrolled": false
   },
   "outputs": [
    {
     "name": "stdout",
     "output_type": "stream",
     "text": [
      "Rank1：サンプル数21\n",
      "InTicket：サンプル数63\n",
      "All：サンプル数339\n"
     ]
    },
    {
     "data": {
      "image/png": "[encoded data removed]",
      "text/plain": [
       "<Figure size 720x720 with 3 Axes>"
      ]
     },
     "metadata": {
      "needs_background": "light"
     },
     "output_type": "display_data"
    }
   ],
   "source": [
    "plot_count_columns('frame_number', 8, (1, 8))"
   ]
  },
  {
   "cell_type": "markdown",
   "metadata": {},
   "source": [
    "過去20年で1着及び馬券内だった馬の芝適性"
   ]
  },
  {
   "cell_type": "code",
   "execution_count": 23,
   "metadata": {},
   "outputs": [
    {
     "name": "stdout",
     "output_type": "stream",
     "text": [
      "Rank1：サンプル数21\n",
      "InTicket：サンプル数63\n",
      "All：サンプル数339\n"
     ]
    },
    {
     "data": {
      "image/png": "[encoded data removed]",
      "text/plain": [
       "<Figure size 720x720 with 3 Axes>"
      ]
     },
     "metadata": {
      "needs_background": "light"
     },
     "output_type": "display_data"
    }
   ],
   "source": [
    "plot_count_columns(\"aptitude_course\", _range = (80, 120))"
   ]
  },
  {
   "cell_type": "markdown",
   "metadata": {},
   "source": [
    "過去20年で1着及び馬券内だった馬の距離適性(高いほど短距離得意)"
   ]
  },
  {
   "cell_type": "code",
   "execution_count": 24,
   "metadata": {},
   "outputs": [
    {
     "name": "stdout",
     "output_type": "stream",
     "text": [
      "Rank1：サンプル数21\n",
      "InTicket：サンプル数63\n",
      "All：サンプル数339\n"
     ]
    },
    {
     "data": {
      "image/png": "[encoded data removed]",
      "text/plain": [
       "<Figure size 720x720 with 3 Axes>"
      ]
     },
     "metadata": {
      "needs_background": "light"
     },
     "output_type": "display_data"
    }
   ],
   "source": [
    "plot_count_columns(\"aptitude_distance\", _range = (0, 120))"
   ]
  },
  {
   "cell_type": "markdown",
   "metadata": {},
   "source": [
    "過去20年で1着及び馬券内だった馬の脚質適性(高いほど逃げ)"
   ]
  },
  {
   "cell_type": "code",
   "execution_count": 25,
   "metadata": {},
   "outputs": [
    {
     "name": "stdout",
     "output_type": "stream",
     "text": [
      "Rank1：サンプル数21\n",
      "InTicket：サンプル数63\n",
      "All：サンプル数339\n"
     ]
    },
    {
     "data": {
      "image/png": "[encoded data removed]",
      "text/plain": [
       "<Figure size 720x720 with 3 Axes>"
      ]
     },
     "metadata": {
      "needs_background": "light"
     },
     "output_type": "display_data"
    }
   ],
   "source": [
    "plot_count_columns(\"aptitude_run\", _range = (0, 120))"
   ]
  },
  {
   "cell_type": "markdown",
   "metadata": {},
   "source": [
    "過去20年で1着及び馬券内だった馬の成長適性(高いほど早熟)"
   ]
  },
  {
   "cell_type": "code",
   "execution_count": 26,
   "metadata": {},
   "outputs": [
    {
     "name": "stdout",
     "output_type": "stream",
     "text": [
      "Rank1：サンプル数21\n",
      "InTicket：サンプル数63\n",
      "All：サンプル数339\n"
     ]
    },
    {
     "data": {
      "image/png": "[encoded data removed]",
      "text/plain": [
       "<Figure size 720x720 with 3 Axes>"
      ]
     },
     "metadata": {
      "needs_background": "light"
     },
     "output_type": "display_data"
    }
   ],
   "source": [
    "plot_count_columns(\"aptitude_growth\", _range = (0, 120))"
   ]
  },
  {
   "cell_type": "markdown",
   "metadata": {},
   "source": [
    "過去20年で1着及び馬券内だった馬の馬場適性(高いほど重馬場得意)"
   ]
  },
  {
   "cell_type": "code",
   "execution_count": 27,
   "metadata": {},
   "outputs": [
    {
     "name": "stdout",
     "output_type": "stream",
     "text": [
      "Rank1：サンプル数21\n",
      "InTicket：サンプル数63\n",
      "All：サンプル数339\n"
     ]
    },
    {
     "data": {
      "image/png": "[encoded data removed]",
      "text/plain": [
       "<Figure size 720x720 with 3 Axes>"
      ]
     },
     "metadata": {
      "needs_background": "light"
     },
     "output_type": "display_data"
    }
   ],
   "source": [
    "plot_count_columns(\"aptitude_ground\", _range = (0, 120))"
   ]
  },
  {
   "cell_type": "markdown",
   "metadata": {},
   "source": [
    "過去20年で1着及び馬券内だった馬の過去レース順位平均値"
   ]
  },
  {
   "cell_type": "code",
   "execution_count": 28,
   "metadata": {},
   "outputs": [
    {
     "name": "stdout",
     "output_type": "stream",
     "text": [
      "Rank1：サンプル数21\n",
      "InTicket：サンプル数63\n",
      "All：サンプル数339\n"
     ]
    },
    {
     "data": {
      "image/png": "[encoded data removed]",
      "text/plain": [
       "<Figure size 720x720 with 3 Axes>"
      ]
     },
     "metadata": {
      "needs_background": "light"
     },
     "output_type": "display_data"
    }
   ],
   "source": [
    "plot_count_columns(\"past_rank_ave\", 18,_range = (1, 18))"
   ]
  },
  {
   "cell_type": "markdown",
   "metadata": {},
   "source": [
    "過去20年で1着及び馬券内だった馬の過去レース順位中央値"
   ]
  },
  {
   "cell_type": "code",
   "execution_count": 29,
   "metadata": {},
   "outputs": [
    {
     "name": "stdout",
     "output_type": "stream",
     "text": [
      "Rank1：サンプル数21\n",
      "InTicket：サンプル数63\n",
      "All：サンプル数339\n"
     ]
    },
    {
     "data": {
      "image/png": "[encoded data removed]",
      "text/plain": [
       "<Figure size 720x720 with 3 Axes>"
      ]
     },
     "metadata": {
      "needs_background": "light"
     },
     "output_type": "display_data"
    }
   ],
   "source": [
    "plot_count_columns(\"past_rank_med\", 18,_range = (1, 18))"
   ]
  },
  {
   "cell_type": "markdown",
   "metadata": {},
   "source": [
    "過去20年で1着及び馬券内だった馬の前走着順"
   ]
  },
  {
   "cell_type": "code",
   "execution_count": 30,
   "metadata": {},
   "outputs": [
    {
     "name": "stdout",
     "output_type": "stream",
     "text": [
      "Rank1：サンプル数21\n",
      "InTicket：サンプル数63\n",
      "All：サンプル数339\n"
     ]
    },
    {
     "data": {
      "image/png": "[encoded data removed]",
      "text/plain": [
       "<Figure size 720x720 with 3 Axes>"
      ]
     },
     "metadata": {
      "needs_background": "light"
     },
     "output_type": "display_data"
    }
   ],
   "source": [
    "plot_count_columns(\"before_race_rank\", 18,_range = (1, 18))"
   ]
  },
  {
   "cell_type": "markdown",
   "metadata": {},
   "source": [
    "過去レースの平均+標準偏差が5より大きければ1, 小さければ0"
   ]
  },
  {
   "cell_type": "code",
   "execution_count": 31,
   "metadata": {},
   "outputs": [
    {
     "name": "stdout",
     "output_type": "stream",
     "text": [
      "Rank1：サンプル数21\n",
      "InTicket：サンプル数63\n",
      "All：サンプル数339\n"
     ]
    },
    {
     "data": {
      "image/png": "[encoded data removed]",
      "text/plain": [
       "<Figure size 720x720 with 3 Axes>"
      ]
     },
     "metadata": {
      "needs_background": "light"
     },
     "output_type": "display_data"
    }
   ],
   "source": [
    "plot_count_columns(\"max_pred_rank\", 2,_range = (0, 1))"
   ]
  },
  {
   "cell_type": "markdown",
   "metadata": {},
   "source": [
    "過去レースの順位データに(G1)などのレースの格を数値化して計算した平均を算出"
   ]
  },
  {
   "cell_type": "code",
   "execution_count": 32,
   "metadata": {},
   "outputs": [
    {
     "name": "stdout",
     "output_type": "stream",
     "text": [
      "Rank1：サンプル数21\n",
      "InTicket：サンプル数63\n",
      "All：サンプル数339\n"
     ]
    },
    {
     "data": {
      "image/png": "[encoded data removed]",
      "text/plain": [
       "<Figure size 720x720 with 3 Axes>"
      ]
     },
     "metadata": {
      "needs_background": "light"
     },
     "output_type": "display_data"
    }
   ],
   "source": [
    "plot_count_columns(\"ave_race_score\", _range = (0, 200))"
   ]
  },
  {
   "cell_type": "markdown",
   "metadata": {},
   "source": [
    "### 特徴量抽出"
   ]
  },
  {
   "cell_type": "code",
   "execution_count": 33,
   "metadata": {},
   "outputs": [],
   "source": [
    "df_races_train = []\n",
    "df_races_test = []\n",
    "df_races_all = pd.concat(df_races_2)\n",
    "for i in range(len(df_races_2)):\n",
    "    tmp = []\n",
    "    for j in range(len(df_races_2)):\n",
    "        if (i == j):\n",
    "            df_races_test.append(df_races_2[j])\n",
    "        else:\n",
    "            tmp.append(df_races_2[j])\n",
    "    df_races_train.append(pd.concat(tmp))"
   ]
  },
  {
   "cell_type": "code",
   "execution_count": 34,
   "metadata": {},
   "outputs": [],
   "source": [
    "df_races_train_2 = df_races_train.copy()\n",
    "df_races_test_2 = df_races_test.copy()\n",
    "df_races_all_2 = df_races_all.copy()\n",
    "y_trains = []\n",
    "(df_races_all_2, y_all) = func.create_param(df_races_all_2)\n",
    "for i in range(len(df_races_train_2)):\n",
    "    (df_races_train_2[i], df_races_test_2[i], tmp) = func.create_params(df_races_train_2[i], df_races_test_2[i])\n",
    "    y_trains.append(tmp)"
   ]
  },
  {
   "cell_type": "markdown",
   "metadata": {},
   "source": [
    "### 2000～2019までのデータで2020年のレースを予測してみて正答率を確認する"
   ]
  },
  {
   "cell_type": "code",
   "execution_count": 35,
   "metadata": {},
   "outputs": [],
   "source": [
    "TEST_NUM = 20"
   ]
  },
  {
   "cell_type": "code",
   "execution_count": 36,
   "metadata": {},
   "outputs": [
    {
     "data": {
      "text/html": [
       "<div>\n",
       "<style scoped>\n",
       "    .dataframe tbody tr th:only-of-type {\n",
       "        vertical-align: middle;\n",
       "    }\n",
       "\n",
       "    .dataframe tbody tr th {\n",
       "        vertical-align: top;\n",
       "    }\n",
       "\n",
       "    .dataframe thead th {\n",
       "        text-align: right;\n",
       "    }\n",
       "</style>\n",
       "<table border=\"1\" class=\"dataframe\">\n",
       "  <thead>\n",
       "    <tr style=\"text-align: right;\">\n",
       "      <th></th>\n",
       "      <th>frame_number</th>\n",
       "      <th>aptitude_course</th>\n",
       "      <th>aptitude_distance</th>\n",
       "      <th>aptitude_run</th>\n",
       "      <th>aptitude_growth</th>\n",
       "      <th>aptitude_ground</th>\n",
       "      <th>race_count</th>\n",
       "      <th>past_rank_ave</th>\n",
       "      <th>past_rank_med</th>\n",
       "      <th>before_race_rank</th>\n",
       "      <th>max_pred_rank</th>\n",
       "      <th>ave_race_score</th>\n",
       "    </tr>\n",
       "  </thead>\n",
       "  <tbody>\n",
       "    <tr>\n",
       "      <th>0</th>\n",
       "      <td>3</td>\n",
       "      <td>95</td>\n",
       "      <td>58</td>\n",
       "      <td>85</td>\n",
       "      <td>39</td>\n",
       "      <td>65</td>\n",
       "      <td>6</td>\n",
       "      <td>5.73913</td>\n",
       "      <td>4.0</td>\n",
       "      <td>14</td>\n",
       "      <td>0</td>\n",
       "      <td>0.0</td>\n",
       "    </tr>\n",
       "  </tbody>\n",
       "</table>\n",
       "</div>"
      ],
      "text/plain": [
       "   frame_number  aptitude_course  aptitude_distance  aptitude_run  \\\n",
       "0             3               95                 58            85   \n",
       "\n",
       "   aptitude_growth  aptitude_ground  race_count  past_rank_ave  past_rank_med  \\\n",
       "0               39               65           6        5.73913            4.0   \n",
       "\n",
       "   before_race_rank  max_pred_rank  ave_race_score  \n",
       "0                14              0             0.0  "
      ]
     },
     "execution_count": 36,
     "metadata": {},
     "output_type": "execute_result"
    }
   ],
   "source": [
    "df_races_test_2[TEST_NUM].head(1)"
   ]
  },
  {
   "cell_type": "code",
   "execution_count": 37,
   "metadata": {},
   "outputs": [],
   "source": [
    "y_train = y_trains[TEST_NUM]"
   ]
  },
  {
   "cell_type": "code",
   "execution_count": 38,
   "metadata": {},
   "outputs": [
    {
     "data": {
      "text/plain": [
       "(321, 12)"
      ]
     },
     "execution_count": 38,
     "metadata": {},
     "output_type": "execute_result"
    }
   ],
   "source": [
    "X_train = df_races_train_2[TEST_NUM].values.astype(np.float)\n",
    "X_train.shape"
   ]
  },
  {
   "cell_type": "code",
   "execution_count": 39,
   "metadata": {},
   "outputs": [
    {
     "data": {
      "text/plain": [
       "(18, 12)"
      ]
     },
     "execution_count": 39,
     "metadata": {},
     "output_type": "execute_result"
    }
   ],
   "source": [
    "X_test = df_races_test_2[TEST_NUM].values.astype(np.float)\n",
    "X_test.shape"
   ]
  },
  {
   "cell_type": "code",
   "execution_count": 40,
   "metadata": {},
   "outputs": [
    {
     "data": {
      "text/plain": [
       "321"
      ]
     },
     "execution_count": 40,
     "metadata": {},
     "output_type": "execute_result"
    }
   ],
   "source": [
    "n_train = y_train.shape[0]\n",
    "n_train"
   ]
  },
  {
   "cell_type": "markdown",
   "metadata": {},
   "source": [
    "### 機械学習開始"
   ]
  },
  {
   "cell_type": "code",
   "execution_count": 41,
   "metadata": {},
   "outputs": [],
   "source": [
    "# 機械学習のモデルを読み込む\n",
    "from sklearn import tree\n",
    "from sklearn import svm\n",
    "from sklearn import ensemble\n",
    "from sklearn import neighbors\n",
    "from sklearn import linear_model\n",
    "\n",
    "# 機械学習のお役立ちモジュールを読み込む\n",
    "from sklearn.model_selection import cross_val_score\n",
    "from sklearn.model_selection import StratifiedKFold\n",
    "from sklearn import metrics\n",
    "from sklearn import preprocessing"
   ]
  },
  {
   "cell_type": "code",
   "execution_count": 42,
   "metadata": {},
   "outputs": [],
   "source": [
    "def stratified_cv(X, y, clf_class, shuffle=True, n_folds=10, **kwargs):\n",
    "    stratified_k_fold = StratifiedKFold(n_splits = n_folds, shuffle = shuffle).split(X, y)\n",
    "    y_pred = y.copy()\n",
    "    for ii, jj in stratified_k_fold:\n",
    "        X_train, X_test = X[ii], X[jj]\n",
    "        y_train = y[ii]\n",
    "        clf = clf_class(**kwargs)\n",
    "        clf.fit(X_train, y_train)\n",
    "        y_pred[jj] = clf.predict(X_test)\n",
    "    return y_pred"
   ]
  },
  {
   "cell_type": "markdown",
   "metadata": {},
   "source": [
    "5つの学習モデルで正答率比較　(Dump Classifierはすべての入力に0を返すモデル)"
   ]
  },
  {
   "cell_type": "code",
   "execution_count": 43,
   "metadata": {},
   "outputs": [
    {
     "name": "stdout",
     "output_type": "stream",
     "text": [
      "Passive Aggressive Classifier: 0.723\n",
      "Gradient Boosting Classifier:  0.782\n",
      "Support vector machine(SVM):   0.813\n",
      "Random Forest Classifier:      0.791\n",
      "K Nearest Neighbor Classifier: 0.760\n",
      "Dump Classifier: 0.813\n"
     ]
    }
   ],
   "source": [
    "print('Passive Aggressive Classifier: {:.3f}'.format(metrics.accuracy_score(y_train, stratified_cv(X_train, y_train, linear_model.PassiveAggressiveClassifier))))\n",
    "print('Gradient Boosting Classifier:  {:.3f}'.format(metrics.accuracy_score(y_train, stratified_cv(X_train, y_train, ensemble.GradientBoostingClassifier))))\n",
    "print('Support vector machine(SVM):   {:.3f}'.format(metrics.accuracy_score(y_train, stratified_cv(X_train, y_train, svm.SVC))))\n",
    "print('Random Forest Classifier:      {:.3f}'.format(metrics.accuracy_score(y_train, stratified_cv(X_train, y_train, ensemble.RandomForestClassifier))))\n",
    "print('K Nearest Neighbor Classifier: {:.3f}'.format(metrics.accuracy_score(y_train, stratified_cv(X_train, y_train, neighbors.KNeighborsClassifier))))\n",
    "print('Dump Classifier: {:.3f}'.format(metrics.accuracy_score(y_train, [0 for ii in y_train.tolist()])))"
   ]
  },
  {
   "cell_type": "markdown",
   "metadata": {},
   "source": [
    "### 正答率の高かったモデルが予測時に何を重要視したかを出力"
   ]
  },
  {
   "cell_type": "code",
   "execution_count": 44,
   "metadata": {},
   "outputs": [
    {
     "data": {
      "text/plain": [
       "RandomForestClassifier()"
      ]
     },
     "execution_count": 44,
     "metadata": {},
     "output_type": "execute_result"
    }
   ],
   "source": [
    "# linear_model.PassiveAggressiveClassifier()\n",
    "# ensemble.GradientBoostingClassifier()\n",
    "# svm.SVC()\n",
    "# ensemble.RandomForestClassifier()\n",
    "# neighbors.KNeighborsClassifier()\n",
    "\n",
    "model = ensemble.RandomForestClassifier()\n",
    "model.fit(X_train, y_train)"
   ]
  },
  {
   "cell_type": "code",
   "execution_count": 45,
   "metadata": {},
   "outputs": [
    {
     "data": {
      "image/png": "[encoded data removed]",
      "text/plain": [
       "<Figure size 576x360 with 1 Axes>"
      ]
     },
     "metadata": {
      "needs_background": "light"
     },
     "output_type": "display_data"
    },
    {
     "name": "stdout",
     "output_type": "stream",
     "text": [
      "past_rank_ave, perturbation effect: 13.18%\n",
      "aptitude_distance, perturbation effect: 12.15%\n",
      "before_race_rank, perturbation effect: 11.41%\n",
      "aptitude_growth, perturbation effect: 8.84%\n",
      "ave_race_score, perturbation effect: 8.84%\n",
      "aptitude_growth, perturbation effect: 8.33%\n",
      "ave_race_score, perturbation effect: 7.80%\n",
      "aptitude_run, perturbation effect: 7.80%\n",
      "frame_number, perturbation effect: 7.22%\n",
      "past_rank_med, perturbation effect: 7.22%\n",
      "frame_number, perturbation effect: 7.22%\n",
      "past_rank_med, perturbation effect: 0.00%\n"
     ]
    }
   ],
   "source": [
    "func.plot_importance(func.calc_importance(model, X_train), df_races_test_2[0].columns.values)\n",
    "func.print_importance(func.calc_importance(model, X_train), df_races_test_2[0].columns.values)"
   ]
  },
  {
   "cell_type": "markdown",
   "metadata": {},
   "source": [
    "予測結果出力"
   ]
  },
  {
   "cell_type": "code",
   "execution_count": 46,
   "metadata": {},
   "outputs": [
    {
     "name": "stdout",
     "output_type": "stream",
     "text": [
      "[0 1 0 0 0 1 1 0 0 0 0 0 0 0 0 0 0 0]\n",
      "1    ソーグリッタリング\n",
      "Name: horse_name, dtype: object\n",
      "5    サトノアーサー\n",
      "Name: horse_name, dtype: object\n",
      "6    ピースワンパラディ\n",
      "Name: horse_name, dtype: object\n"
     ]
    }
   ],
   "source": [
    "y_pred = model.predict(X_test)\n",
    "print(y_pred)\n",
    "for i in range(len(y_pred)):\n",
    "    if (y_pred[i]):\n",
    "        print(df_races_2[TEST_NUM].iloc[[i]]['horse_name'])"
   ]
  },
  {
   "cell_type": "markdown",
   "metadata": {},
   "source": [
    "### 今年のレースを予測"
   ]
  },
  {
   "cell_type": "code",
   "execution_count": 47,
   "metadata": {},
   "outputs": [],
   "source": [
    "PRED_RACE_COLUMNS = [\n",
    "    \"frame_number\",\n",
    "    \"horse_number\",\n",
    "    \"mark\",\n",
    "    \"horse_name\",\n",
    "    \"url\",\n",
    "    \"aptitude_course\",\n",
    "    \"aptitude_distance\",\n",
    "    \"aptitude_run\",\n",
    "    \"aptitude_growth\",\n",
    "    \"aptitude_ground\",\n",
    "    \"age\",\n",
    "    \"weight\",\n",
    "    \"jockey\",\n",
    "    \"trainer\",\n",
    "    \"blank_1\",\n",
    "    \"blank_2\",\n",
    "    \"blank_3\",\n",
    "    \"blank_4\",\n",
    "    \"blank_5\"\n",
    "]"
   ]
  },
  {
   "cell_type": "code",
   "execution_count": 48,
   "metadata": {},
   "outputs": [],
   "source": [
    "df_pred_race = pd.read_csv(CSV_DIR+ RACE + str(int(TRAIN_RACE_ID[0][:4]) + 1) + RACE_NAME + \".csv\", header=None, names = PRED_RACE_COLUMNS, encoding='shift_jis')"
   ]
  },
  {
   "cell_type": "code",
   "execution_count": 49,
   "metadata": {
    "scrolled": true
   },
   "outputs": [
    {
     "data": {
      "text/html": [
       "<div>\n",
       "<style scoped>\n",
       "    .dataframe tbody tr th:only-of-type {\n",
       "        vertical-align: middle;\n",
       "    }\n",
       "\n",
       "    .dataframe tbody tr th {\n",
       "        vertical-align: top;\n",
       "    }\n",
       "\n",
       "    .dataframe thead th {\n",
       "        text-align: right;\n",
       "    }\n",
       "</style>\n",
       "<table border=\"1\" class=\"dataframe\">\n",
       "  <thead>\n",
       "    <tr style=\"text-align: right;\">\n",
       "      <th></th>\n",
       "      <th>frame_number</th>\n",
       "      <th>horse_number</th>\n",
       "      <th>mark</th>\n",
       "      <th>horse_name</th>\n",
       "      <th>url</th>\n",
       "      <th>aptitude_course</th>\n",
       "      <th>aptitude_distance</th>\n",
       "      <th>aptitude_run</th>\n",
       "      <th>aptitude_growth</th>\n",
       "      <th>aptitude_ground</th>\n",
       "      <th>age</th>\n",
       "      <th>weight</th>\n",
       "      <th>jockey</th>\n",
       "      <th>trainer</th>\n",
       "      <th>blank_1</th>\n",
       "      <th>blank_2</th>\n",
       "      <th>blank_3</th>\n",
       "      <th>blank_4</th>\n",
       "      <th>blank_5</th>\n",
       "    </tr>\n",
       "  </thead>\n",
       "  <tbody>\n",
       "    <tr>\n",
       "      <th>0</th>\n",
       "      <td>1</td>\n",
       "      <td>1</td>\n",
       "      <td>--◎◯▲△☆&amp;#10003消</td>\n",
       "      <td>プレシャスブルー</td>\n",
       "      <td>https://db.netkeiba.com/horse/2014100063</td>\n",
       "      <td>116</td>\n",
       "      <td>58</td>\n",
       "      <td>1</td>\n",
       "      <td>1</td>\n",
       "      <td>116</td>\n",
       "      <td>牡7</td>\n",
       "      <td>56.0</td>\n",
       "      <td>柴田善</td>\n",
       "      <td>美浦相沢</td>\n",
       "      <td>442(+6)</td>\n",
       "      <td>---.-</td>\n",
       "      <td>**</td>\n",
       "      <td>NaN</td>\n",
       "      <td>NaN</td>\n",
       "    </tr>\n",
       "    <tr>\n",
       "      <th>1</th>\n",
       "      <td>1</td>\n",
       "      <td>2</td>\n",
       "      <td>--◎◯▲△☆&amp;#10003消</td>\n",
       "      <td>マイラプソディ</td>\n",
       "      <td>https://db.netkeiba.com/horse/2017105434</td>\n",
       "      <td>116</td>\n",
       "      <td>24</td>\n",
       "      <td>10</td>\n",
       "      <td>47</td>\n",
       "      <td>85</td>\n",
       "      <td>牡4</td>\n",
       "      <td>56.0</td>\n",
       "      <td>武豊</td>\n",
       "      <td>栗東友道</td>\n",
       "      <td>510(+2)</td>\n",
       "      <td>---.-</td>\n",
       "      <td>**</td>\n",
       "      <td>NaN</td>\n",
       "      <td>NaN</td>\n",
       "    </tr>\n",
       "    <tr>\n",
       "      <th>2</th>\n",
       "      <td>2</td>\n",
       "      <td>3</td>\n",
       "      <td>--◎◯▲△☆&amp;#10003消</td>\n",
       "      <td>ヴェロックス</td>\n",
       "      <td>https://db.netkeiba.com/horse/2016104529</td>\n",
       "      <td>116</td>\n",
       "      <td>48</td>\n",
       "      <td>90</td>\n",
       "      <td>52</td>\n",
       "      <td>83</td>\n",
       "      <td>牡5</td>\n",
       "      <td>57.0</td>\n",
       "      <td>浜中</td>\n",
       "      <td>栗東中内田</td>\n",
       "      <td>494(-4)</td>\n",
       "      <td>---.-</td>\n",
       "      <td>**</td>\n",
       "      <td>NaN</td>\n",
       "      <td>NaN</td>\n",
       "    </tr>\n",
       "    <tr>\n",
       "      <th>3</th>\n",
       "      <td>2</td>\n",
       "      <td>4</td>\n",
       "      <td>--◎◯▲△☆&amp;#10003消</td>\n",
       "      <td>セダブリランテス</td>\n",
       "      <td>https://db.netkeiba.com/horse/2014105949</td>\n",
       "      <td>88</td>\n",
       "      <td>49</td>\n",
       "      <td>77</td>\n",
       "      <td>43</td>\n",
       "      <td>62</td>\n",
       "      <td>牡7</td>\n",
       "      <td>56.0</td>\n",
       "      <td>石川</td>\n",
       "      <td>美浦手塚</td>\n",
       "      <td>518(0)</td>\n",
       "      <td>---.-</td>\n",
       "      <td>**</td>\n",
       "      <td>NaN</td>\n",
       "      <td>NaN</td>\n",
       "    </tr>\n",
       "    <tr>\n",
       "      <th>4</th>\n",
       "      <td>3</td>\n",
       "      <td>5</td>\n",
       "      <td>--◎◯▲△☆&amp;#10003消</td>\n",
       "      <td>エアアルマス</td>\n",
       "      <td>https://db.netkeiba.com/horse/2015110086</td>\n",
       "      <td>11</td>\n",
       "      <td>96</td>\n",
       "      <td>82</td>\n",
       "      <td>58</td>\n",
       "      <td>58</td>\n",
       "      <td>牡6</td>\n",
       "      <td>58.0</td>\n",
       "      <td>三浦</td>\n",
       "      <td>栗東池添学</td>\n",
       "      <td>488(+6)</td>\n",
       "      <td>---.-</td>\n",
       "      <td>**</td>\n",
       "      <td>NaN</td>\n",
       "      <td>NaN</td>\n",
       "    </tr>\n",
       "  </tbody>\n",
       "</table>\n",
       "</div>"
      ],
      "text/plain": [
       "   frame_number  horse_number             mark horse_name  \\\n",
       "0             1             1  --◎◯▲△☆&#10003消   プレシャスブルー   \n",
       "1             1             2  --◎◯▲△☆&#10003消    マイラプソディ   \n",
       "2             2             3  --◎◯▲△☆&#10003消     ヴェロックス   \n",
       "3             2             4  --◎◯▲△☆&#10003消   セダブリランテス   \n",
       "4             3             5  --◎◯▲△☆&#10003消     エアアルマス   \n",
       "\n",
       "                                        url  aptitude_course  \\\n",
       "0  https://db.netkeiba.com/horse/2014100063              116   \n",
       "1  https://db.netkeiba.com/horse/2017105434              116   \n",
       "2  https://db.netkeiba.com/horse/2016104529              116   \n",
       "3  https://db.netkeiba.com/horse/2014105949               88   \n",
       "4  https://db.netkeiba.com/horse/2015110086               11   \n",
       "\n",
       "   aptitude_distance  aptitude_run  aptitude_growth  aptitude_ground age  \\\n",
       "0                 58             1                1              116  牡7   \n",
       "1                 24            10               47               85  牡4   \n",
       "2                 48            90               52               83  牡5   \n",
       "3                 49            77               43               62  牡7   \n",
       "4                 96            82               58               58  牡6   \n",
       "\n",
       "   weight jockey trainer  blank_1 blank_2 blank_3  blank_4  blank_5  \n",
       "0    56.0    柴田善    美浦相沢  442(+6)   ---.-      **      NaN      NaN  \n",
       "1    56.0     武豊    栗東友道  510(+2)   ---.-      **      NaN      NaN  \n",
       "2    57.0     浜中   栗東中内田  494(-4)   ---.-      **      NaN      NaN  \n",
       "3    56.0     石川    美浦手塚   518(0)   ---.-      **      NaN      NaN  \n",
       "4    58.0     三浦   栗東池添学  488(+6)   ---.-      **      NaN      NaN  "
      ]
     },
     "execution_count": 49,
     "metadata": {},
     "output_type": "execute_result"
    }
   ],
   "source": [
    "num = int(TRAIN_RACE_ID[0][:4]) + 1 - 2000\n",
    "df_pred_race.head(5)"
   ]
  },
  {
   "cell_type": "code",
   "execution_count": 50,
   "metadata": {},
   "outputs": [],
   "source": [
    "df_pred_race_2 = df_pred_race.copy()\n",
    "drop_columns = ['trainer', 'owner', 'jockey', 'mark', 'url', 'blank_1', 'blank_2', 'blank_3', 'blank_4', 'blank_5']\n",
    "df_pred_race_2.fillna({'time_score': '**'})\n",
    "df_pred_race_2.dropna(how='all', axis = 1, inplace=True)\n",
    "df_pred_race_2 = df_pred_race_2.drop(columns = drop_columns, errors = 'ignore')\n",
    "df_pred_race_2['horse_data_key'] = df_pred_race_2.apply(road_horse_data, num = num, axis = 1)\n",
    "df_pred_race_2['race_count'] = df_pred_race_2.apply(lambda x: int(db_horses[x['horse_data_key']].shape[0]), axis = 1)\n",
    "df_pred_race_2['past_rank_ave'] = df_pred_race_2.apply(calc_past_rank_ave, axis = 1)\n",
    "df_pred_race_2['past_rank_med'] = df_pred_race_2.apply(lambda x: db_horses[x['horse_data_key']]['rank'].median(axis = 0), axis = 1)\n",
    "df_pred_race_2['before_race_rank'] = df_pred_race_2.apply(lambda x: int(db_horses[x['horse_data_key']]['rank'][x['race_count'] - 1]), axis = 1)\n",
    "df_pred_race_2['past_rank_std'] = df_pred_race_2.apply(lambda x: db_horses[x['horse_data_key']]['rank'].std(axis = 0), axis = 1)\n",
    "df_pred_race_2['max_pred_rank'] = df_pred_race_2.apply(lambda x: 1 if (x['past_rank_ave'] + x['past_rank_std']) < 5 else 0, axis = 1)\n",
    "df_pred_race_2['ave_race_score'] = df_pred_race_2.apply(lambda x: db_horses[x['horse_data_key']]['race_score'].median(axis = 0), axis = 1)"
   ]
  },
  {
   "cell_type": "code",
   "execution_count": 51,
   "metadata": {
    "scrolled": true
   },
   "outputs": [
    {
     "data": {
      "text/html": [
       "<div>\n",
       "<style scoped>\n",
       "    .dataframe tbody tr th:only-of-type {\n",
       "        vertical-align: middle;\n",
       "    }\n",
       "\n",
       "    .dataframe tbody tr th {\n",
       "        vertical-align: top;\n",
       "    }\n",
       "\n",
       "    .dataframe thead th {\n",
       "        text-align: right;\n",
       "    }\n",
       "</style>\n",
       "<table border=\"1\" class=\"dataframe\">\n",
       "  <thead>\n",
       "    <tr style=\"text-align: right;\">\n",
       "      <th></th>\n",
       "      <th>frame_number</th>\n",
       "      <th>horse_number</th>\n",
       "      <th>horse_name</th>\n",
       "      <th>aptitude_course</th>\n",
       "      <th>aptitude_distance</th>\n",
       "      <th>aptitude_run</th>\n",
       "      <th>aptitude_growth</th>\n",
       "      <th>aptitude_ground</th>\n",
       "      <th>age</th>\n",
       "      <th>weight</th>\n",
       "      <th>horse_data_key</th>\n",
       "      <th>race_count</th>\n",
       "      <th>past_rank_ave</th>\n",
       "      <th>past_rank_med</th>\n",
       "      <th>before_race_rank</th>\n",
       "      <th>past_rank_std</th>\n",
       "      <th>max_pred_rank</th>\n",
       "      <th>ave_race_score</th>\n",
       "    </tr>\n",
       "  </thead>\n",
       "  <tbody>\n",
       "    <tr>\n",
       "      <th>0</th>\n",
       "      <td>1</td>\n",
       "      <td>1</td>\n",
       "      <td>プレシャスブルー</td>\n",
       "      <td>116</td>\n",
       "      <td>58</td>\n",
       "      <td>1</td>\n",
       "      <td>1</td>\n",
       "      <td>116</td>\n",
       "      <td>牡7</td>\n",
       "      <td>56.0</td>\n",
       "      <td>2021プレシャスブルー</td>\n",
       "      <td>34</td>\n",
       "      <td>5.147059</td>\n",
       "      <td>4.0</td>\n",
       "      <td>3</td>\n",
       "      <td>3.734624</td>\n",
       "      <td>0</td>\n",
       "      <td>0.000000</td>\n",
       "    </tr>\n",
       "    <tr>\n",
       "      <th>1</th>\n",
       "      <td>1</td>\n",
       "      <td>2</td>\n",
       "      <td>マイラプソディ</td>\n",
       "      <td>116</td>\n",
       "      <td>24</td>\n",
       "      <td>10</td>\n",
       "      <td>47</td>\n",
       "      <td>85</td>\n",
       "      <td>牡4</td>\n",
       "      <td>56.0</td>\n",
       "      <td>2021マイラプソディ</td>\n",
       "      <td>9</td>\n",
       "      <td>6.000000</td>\n",
       "      <td>4.0</td>\n",
       "      <td>1</td>\n",
       "      <td>6.103278</td>\n",
       "      <td>0</td>\n",
       "      <td>0.000000</td>\n",
       "    </tr>\n",
       "    <tr>\n",
       "      <th>2</th>\n",
       "      <td>2</td>\n",
       "      <td>3</td>\n",
       "      <td>ヴェロックス</td>\n",
       "      <td>116</td>\n",
       "      <td>48</td>\n",
       "      <td>90</td>\n",
       "      <td>52</td>\n",
       "      <td>83</td>\n",
       "      <td>牡5</td>\n",
       "      <td>57.0</td>\n",
       "      <td>2021ヴェロックス</td>\n",
       "      <td>13</td>\n",
       "      <td>3.692308</td>\n",
       "      <td>3.0</td>\n",
       "      <td>1</td>\n",
       "      <td>2.982857</td>\n",
       "      <td>0</td>\n",
       "      <td>55.555556</td>\n",
       "    </tr>\n",
       "    <tr>\n",
       "      <th>3</th>\n",
       "      <td>2</td>\n",
       "      <td>4</td>\n",
       "      <td>セダブリランテス</td>\n",
       "      <td>88</td>\n",
       "      <td>49</td>\n",
       "      <td>77</td>\n",
       "      <td>43</td>\n",
       "      <td>62</td>\n",
       "      <td>牡7</td>\n",
       "      <td>56.0</td>\n",
       "      <td>2021セダブリランテス</td>\n",
       "      <td>8</td>\n",
       "      <td>2.625000</td>\n",
       "      <td>1.0</td>\n",
       "      <td>1</td>\n",
       "      <td>2.503569</td>\n",
       "      <td>0</td>\n",
       "      <td>35.511364</td>\n",
       "    </tr>\n",
       "    <tr>\n",
       "      <th>4</th>\n",
       "      <td>3</td>\n",
       "      <td>5</td>\n",
       "      <td>エアアルマス</td>\n",
       "      <td>11</td>\n",
       "      <td>96</td>\n",
       "      <td>82</td>\n",
       "      <td>58</td>\n",
       "      <td>58</td>\n",
       "      <td>牡6</td>\n",
       "      <td>58.0</td>\n",
       "      <td>2021エアアルマス</td>\n",
       "      <td>20</td>\n",
       "      <td>4.100000</td>\n",
       "      <td>2.5</td>\n",
       "      <td>2</td>\n",
       "      <td>3.582119</td>\n",
       "      <td>0</td>\n",
       "      <td>7.142857</td>\n",
       "    </tr>\n",
       "  </tbody>\n",
       "</table>\n",
       "</div>"
      ],
      "text/plain": [
       "   frame_number  horse_number horse_name  aptitude_course  aptitude_distance  \\\n",
       "0             1             1   プレシャスブルー              116                 58   \n",
       "1             1             2    マイラプソディ              116                 24   \n",
       "2             2             3     ヴェロックス              116                 48   \n",
       "3             2             4   セダブリランテス               88                 49   \n",
       "4             3             5     エアアルマス               11                 96   \n",
       "\n",
       "   aptitude_run  aptitude_growth  aptitude_ground age  weight horse_data_key  \\\n",
       "0             1                1              116  牡7    56.0   2021プレシャスブルー   \n",
       "1            10               47               85  牡4    56.0    2021マイラプソディ   \n",
       "2            90               52               83  牡5    57.0     2021ヴェロックス   \n",
       "3            77               43               62  牡7    56.0   2021セダブリランテス   \n",
       "4            82               58               58  牡6    58.0     2021エアアルマス   \n",
       "\n",
       "   race_count  past_rank_ave  past_rank_med  before_race_rank  past_rank_std  \\\n",
       "0          34       5.147059            4.0                 3       3.734624   \n",
       "1           9       6.000000            4.0                 1       6.103278   \n",
       "2          13       3.692308            3.0                 1       2.982857   \n",
       "3           8       2.625000            1.0                 1       2.503569   \n",
       "4          20       4.100000            2.5                 2       3.582119   \n",
       "\n",
       "   max_pred_rank  ave_race_score  \n",
       "0              0        0.000000  \n",
       "1              0        0.000000  \n",
       "2              0       55.555556  \n",
       "3              0       35.511364  \n",
       "4              0        7.142857  "
      ]
     },
     "execution_count": 51,
     "metadata": {},
     "output_type": "execute_result"
    }
   ],
   "source": [
    "df_pred_race_2.head(5)"
   ]
  },
  {
   "cell_type": "code",
   "execution_count": 52,
   "metadata": {},
   "outputs": [
    {
     "data": {
      "text/html": [
       "<div>\n",
       "<style scoped>\n",
       "    .dataframe tbody tr th:only-of-type {\n",
       "        vertical-align: middle;\n",
       "    }\n",
       "\n",
       "    .dataframe tbody tr th {\n",
       "        vertical-align: top;\n",
       "    }\n",
       "\n",
       "    .dataframe thead th {\n",
       "        text-align: right;\n",
       "    }\n",
       "</style>\n",
       "<table border=\"1\" class=\"dataframe\">\n",
       "  <thead>\n",
       "    <tr style=\"text-align: right;\">\n",
       "      <th></th>\n",
       "      <th>frame_number</th>\n",
       "      <th>aptitude_course</th>\n",
       "      <th>aptitude_distance</th>\n",
       "      <th>aptitude_run</th>\n",
       "      <th>aptitude_growth</th>\n",
       "      <th>aptitude_ground</th>\n",
       "      <th>race_count</th>\n",
       "      <th>past_rank_ave</th>\n",
       "      <th>past_rank_med</th>\n",
       "      <th>before_race_rank</th>\n",
       "      <th>max_pred_rank</th>\n",
       "      <th>ave_race_score</th>\n",
       "    </tr>\n",
       "  </thead>\n",
       "  <tbody>\n",
       "    <tr>\n",
       "      <th>0</th>\n",
       "      <td>1</td>\n",
       "      <td>116</td>\n",
       "      <td>58</td>\n",
       "      <td>1</td>\n",
       "      <td>1</td>\n",
       "      <td>116</td>\n",
       "      <td>34</td>\n",
       "      <td>5.147059</td>\n",
       "      <td>4.0</td>\n",
       "      <td>3</td>\n",
       "      <td>0</td>\n",
       "      <td>0.0</td>\n",
       "    </tr>\n",
       "  </tbody>\n",
       "</table>\n",
       "</div>"
      ],
      "text/plain": [
       "   frame_number  aptitude_course  aptitude_distance  aptitude_run  \\\n",
       "0             1              116                 58             1   \n",
       "\n",
       "   aptitude_growth  aptitude_ground  race_count  past_rank_ave  past_rank_med  \\\n",
       "0                1              116          34       5.147059            4.0   \n",
       "\n",
       "   before_race_rank  max_pred_rank  ave_race_score  \n",
       "0                 3              0             0.0  "
      ]
     },
     "execution_count": 52,
     "metadata": {},
     "output_type": "execute_result"
    }
   ],
   "source": [
    "df_pred_race_3 = df_pred_race_2.copy()\n",
    "df_pred_race_3 = df_pred_race_3.drop(columns = [\"horse_name\", \"age\", \"weight\", \"horse_data_key\", \"horse_number\", \"past_rank_std\"])\n",
    "df_pred_race_3.head(1)"
   ]
  },
  {
   "cell_type": "code",
   "execution_count": 53,
   "metadata": {},
   "outputs": [],
   "source": [
    "df_pred_race_3.shape\n",
    "x_pred = df_pred_race_3.values.astype(np.float)"
   ]
  },
  {
   "cell_type": "code",
   "execution_count": 54,
   "metadata": {},
   "outputs": [],
   "source": [
    "X_all = df_races_all_2.values.astype(np.float)"
   ]
  },
  {
   "cell_type": "code",
   "execution_count": 55,
   "metadata": {},
   "outputs": [
    {
     "name": "stdout",
     "output_type": "stream",
     "text": [
      "[1 0 0 0 0 0 0 0 0 0 0 0 0 0 0 0 0 0]\n",
      "[0 0 0 0 0 0 0 0 0 0 0 0 0 0 0 0 0 0]\n",
      "[0 0 0 0 0 0 0 0 0 0 0 0 0 0 0 0 0 0]\n",
      "[0 0 0 0 0 0 0 0 0 0 0 0 0 0 0 1 0 0]\n",
      "[0 0 0 0 0 0 0 0 0 0 0 0 0 0 1 0 0 0]\n",
      "Counter({'プレシャスブルー': 1, 'シュリ': 1, 'ザダル': 1})\n"
     ]
    }
   ],
   "source": [
    "horse_names = df_pred_race_2['horse_name']\n",
    "models = []\n",
    "models.append(linear_model.PassiveAggressiveClassifier())\n",
    "models.append(ensemble.GradientBoostingClassifier())\n",
    "models.append(svm.SVC())\n",
    "models.append(ensemble.RandomForestClassifier())\n",
    "models.append(neighbors.KNeighborsClassifier())\n",
    "names = []\n",
    "for i in range(len(models)):\n",
    "    models[i].fit(X_all, y_all)\n",
    "    y_pred = models[i].predict(x_pred)\n",
    "    print(y_pred)\n",
    "    for j in range(len(y_pred)):\n",
    "        if (y_pred[j]):\n",
    "            names.append(horse_names[j])\n",
    "print(collections.Counter(names))"
   ]
  },
  {
   "cell_type": "code",
   "execution_count": null,
   "metadata": {},
   "outputs": [],
   "source": []
  },
  {
   "cell_type": "code",
   "execution_count": null,
   "metadata": {},
   "outputs": [],
   "source": []
  }
 ],
 "metadata": {
  "kernelspec": {
   "display_name": "Python 3",
   "language": "python",
   "name": "python3"
  },
  "language_info": {
   "codemirror_mode": {
    "name": "ipython",
    "version": 3
   },
   "file_extension": ".py",
   "mimetype": "text/x-python",
   "name": "python",
   "nbconvert_exporter": "python",
   "pygments_lexer": "ipython3",
   "version": "3.8.5"
  }
 },
 "nbformat": 4,
 "nbformat_minor": 4
}
