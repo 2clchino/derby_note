{
 "cells": [
  {
   "cell_type": "markdown",
   "metadata": {},
   "source": [
    "### モジュールインポート"
   ]
  },
  {
   "cell_type": "code",
   "execution_count": 1,
   "metadata": {},
   "outputs": [
    {
     "name": "stderr",
     "output_type": "stream",
     "text": [
      "C:\\Users\\mano2\\anaconda3\\lib\\site-packages\\requests\\__init__.py:89: RequestsDependencyWarning: urllib3 (1.26.9) or chardet (3.0.4) doesn't match a supported version!\n",
      "  warnings.warn(\"urllib3 ({}) or chardet ({}) doesn't match a supported \"\n"
     ]
    }
   ],
   "source": [
    "import csv\n",
    "import requests\n",
    "import bs4\n",
    "import re\n",
    "import os\n",
    "import time\n",
    "import numpy as np\n",
    "import pandas as pd\n",
    "import matplotlib.pyplot as plt\n",
    "import seaborn as sns\n",
    "from enum import Enum\n",
    "import derby_func as func\n",
    "import collections\n",
    "from sklearn import preprocessing"
   ]
  },
  {
   "cell_type": "markdown",
   "metadata": {},
   "source": [
    "### 定数宣言"
   ]
  },
  {
   "cell_type": "code",
   "execution_count": 2,
   "metadata": {},
   "outputs": [],
   "source": [
    "RACE_NAME = \"宝塚記念\"\n",
    "RACE_NAME_2 = \"宝塚記念\"\n",
    "RACE = \"/race/\"\n",
    "CSV_DIR = \"csv\"\n",
    "URL_BASE = \"https://db.netkeiba.com\"\n",
    "URL_RACE = \"https://race.netkeiba.com/race/shutuba.html?race_id=\"\n",
    "\n",
    "RACE_TABLE_NAME = \"race_table_01 nk_tb_common\""
   ]
  },
  {
   "cell_type": "code",
   "execution_count": 3,
   "metadata": {},
   "outputs": [],
   "source": [
    "TRAIN_RACE_DATA_PATH = CSV_DIR+ RACE + RACE_NAME + \"/\"\n",
    "TRAIN_HORSE_DATA_PATH = CSV_DIR + \"/horse/\"\n",
    "# min_cnt = 1で2021のレースは含まない, max_cnt = nとすることで過去のnレースをトレインデータにする\n",
    "TRAIN_RACE_ID = func.get_train_race_id(func.get_text_from_page('https://race.netkeiba.com/special/index.html?id=0068'), min_cnt = 0, max_cnt = 21)\n",
    "RACE_DATA_COLUMNS = func.race_data_columns()\n",
    "HORSE_DATA_COLUMNS = func.horse_data_columns()\n",
    "RACE_RANK = func.race_rank()"
   ]
  },
  {
   "cell_type": "code",
   "execution_count": 4,
   "metadata": {},
   "outputs": [
    {
     "data": {
      "text/plain": [
       "['202109030411',\n",
       " '202009030811',\n",
       " '201909030811',\n",
       " '201809030811',\n",
       " '201709030811',\n",
       " '201609030811',\n",
       " '201509030811',\n",
       " '201409030811',\n",
       " '201309030811',\n",
       " '201209030811',\n",
       " '201109040411',\n",
       " '201009030410',\n",
       " '200909030410',\n",
       " '200809030410',\n",
       " '200709030411',\n",
       " '200608040411',\n",
       " '200509030411',\n",
       " '200409030411',\n",
       " '200309030411',\n",
       " '200209030411',\n",
       " '200109030411']"
      ]
     },
     "execution_count": 4,
     "metadata": {},
     "output_type": "execute_result"
    }
   ],
   "source": [
    "TRAIN_RACE_ID"
   ]
  },
  {
   "cell_type": "code",
   "execution_count": 5,
   "metadata": {},
   "outputs": [
    {
     "data": {
      "text/plain": [
       "21"
      ]
     },
     "execution_count": 5,
     "metadata": {},
     "output_type": "execute_result"
    }
   ],
   "source": [
    "len(TRAIN_RACE_ID)"
   ]
  },
  {
   "cell_type": "markdown",
   "metadata": {},
   "source": [
    "### DataFrame読み込み、前処理"
   ]
  },
  {
   "cell_type": "code",
   "execution_count": 6,
   "metadata": {},
   "outputs": [],
   "source": [
    "df_races = []\n",
    "db_horses = {}\n",
    "for i in range(len(TRAIN_RACE_ID)):\n",
    "    df_races.append(pd.read_csv(TRAIN_RACE_DATA_PATH + str(int(TRAIN_RACE_ID[len(TRAIN_RACE_ID) - 1][:4]) + i) + \".csv\", header=None, names = RACE_DATA_COLUMNS, encoding='shift_jis'))"
   ]
  },
  {
   "cell_type": "code",
   "execution_count": 7,
   "metadata": {},
   "outputs": [],
   "source": [
    "def race_score_define(row):\n",
    "    rank_score = 0\n",
    "    for rank in RACE_RANK:\n",
    "        if (rank.rank in row['race_name']):\n",
    "            rank_score = rank.score\n",
    "    return rank_score"
   ]
  },
  {
   "cell_type": "code",
   "execution_count": 8,
   "metadata": {},
   "outputs": [],
   "source": [
    "def road_horse_data(row, num):\n",
    "    road_path = TRAIN_HORSE_DATA_PATH + str(int(TRAIN_RACE_ID[len(TRAIN_RACE_ID) - 1][:4]) + num) + RACE_NAME + \"/\" + row['horse_name'] + \".csv\"\n",
    "    path = str(int(TRAIN_RACE_ID[len(TRAIN_RACE_ID) - 1][:4]) + num) + row['horse_name']\n",
    "    df_tmp = pd.read_csv(road_path, header=None, names = HORSE_DATA_COLUMNS, encoding='shift_jis')\n",
    "    df_tmp = df_tmp.drop(columns=['time_score', \"ground_score\", 'popularity', 'odds', 'R', 'winner', 'reward', \"video\" ,\"coment\", \"coment_2\",])\n",
    "    df_tmp.dropna(how='all', axis = 1, inplace=True)\n",
    "    df_tmp['ground_type'] = df_tmp.apply(lambda x: x['distance'][:1], axis = 1)\n",
    "    df_tmp['distance'] = df_tmp.apply(lambda x: x['distance'][1:], axis = 1)\n",
    "    df_tmp['race_rank_score'] = df_tmp.apply(race_score_define, axis = 1)\n",
    "    df_tmp.dropna(how='any', axis = 0, inplace=True)\n",
    "    db_horses[path] = df_tmp.reset_index()\n",
    "    return path"
   ]
  },
  {
   "cell_type": "code",
   "execution_count": 9,
   "metadata": {},
   "outputs": [],
   "source": [
    "def serch_past_races(row, num):\n",
    "    df_horse = db_horses[row['horse_data_key']]\n",
    "    df_horse['race_date_judge'] = df_horse.apply(lambda x: True if str(x['race_id']) == str(TRAIN_RACE_ID[len(TRAIN_RACE_ID) - 1 - num]) else False, axis = 1)\n",
    "    index = df_horse[df_horse['race_date_judge'] == True].index\n",
    "    df_horse = df_horse.iloc[index[0] + 1:]\n",
    "    db_horses[row['horse_data_key']] = df_horse\n",
    "    if (df_horse.shape[0] > 0):\n",
    "        return index[0]\n",
    "    else :\n",
    "        return 0"
   ]
  },
  {
   "cell_type": "code",
   "execution_count": 10,
   "metadata": {},
   "outputs": [],
   "source": [
    "def rank_to_int(df):\n",
    "    df_2 = df.copy()\n",
    "    df_2 = df_2[(df_2['rank'] != \"取\") & (df_2['rank'] != \"中\") & (df_2['rank'] != \"除\") & (df_2['rank'] != \"失\")]\n",
    "    df_2['rank'] = df_2['rank'].apply(lambda x: int(re.sub(r\"\\D\", \"\", str(x))))\n",
    "    return df_2"
   ]
  },
  {
   "cell_type": "code",
   "execution_count": 11,
   "metadata": {},
   "outputs": [],
   "source": [
    "def calc_past_rank_ave(row):\n",
    "    df_horse = db_horses[row['horse_data_key']]\n",
    "    df_horse = rank_to_int(df_horse)\n",
    "    df_horse['race_score'] = df_horse.apply(lambda x: 0 if x['rank'] > 5 else (x['race_rank_score'] * (4 - x['rank']) * 10) / x['head_count'], axis = 1)\n",
    "    mean = df_horse['rank'].mean(axis = 0)\n",
    "    db_horses[row['horse_data_key']] = df_horse\n",
    "    return mean"
   ]
  },
  {
   "cell_type": "code",
   "execution_count": 12,
   "metadata": {},
   "outputs": [],
   "source": [
    "def feature_creation(df_race_tmp, num = 1):\n",
    "    df = df_race_tmp.copy()\n",
    "    df = df[df['race_count'] > 0]\n",
    "    df['past_rank_ave'] = df.apply(calc_past_rank_ave, axis = 1)\n",
    "    df['before_race_rank'] = df.apply(lambda x: int(db_horses[x['horse_data_key']]['rank'][x['race_count'] + num]), axis = 1)\n",
    "    df['past_rank_std'] = df.apply(lambda x: db_horses[x['horse_data_key']]['rank'].std(axis = 0), axis = 1)\n",
    "    df['ave_race_score'] = df.apply(lambda x: db_horses[x['horse_data_key']]['race_score'].median(axis = 0), axis = 1)\n",
    "    return df.fillna(0)"
   ]
  },
  {
   "cell_type": "code",
   "execution_count": 13,
   "metadata": {
    "scrolled": true
   },
   "outputs": [
    {
     "data": {
      "text/html": [
       "<div>\n",
       "<style scoped>\n",
       "    .dataframe tbody tr th:only-of-type {\n",
       "        vertical-align: middle;\n",
       "    }\n",
       "\n",
       "    .dataframe tbody tr th {\n",
       "        vertical-align: top;\n",
       "    }\n",
       "\n",
       "    .dataframe thead th {\n",
       "        text-align: right;\n",
       "    }\n",
       "</style>\n",
       "<table border=\"1\" class=\"dataframe\">\n",
       "  <thead>\n",
       "    <tr style=\"text-align: right;\">\n",
       "      <th></th>\n",
       "      <th>rank</th>\n",
       "      <th>frame_number</th>\n",
       "      <th>horse_number</th>\n",
       "      <th>horse_name</th>\n",
       "      <th>aptitude_course</th>\n",
       "      <th>aptitude_distance</th>\n",
       "      <th>aptitude_run</th>\n",
       "      <th>aptitude_growth</th>\n",
       "      <th>aptitude_ground</th>\n",
       "      <th>age</th>\n",
       "      <th>weight</th>\n",
       "      <th>odds</th>\n",
       "      <th>popularity</th>\n",
       "      <th>horse_weight</th>\n",
       "      <th>horse_data_key</th>\n",
       "      <th>race_count</th>\n",
       "      <th>past_rank_ave</th>\n",
       "      <th>before_race_rank</th>\n",
       "      <th>past_rank_std</th>\n",
       "      <th>ave_race_score</th>\n",
       "    </tr>\n",
       "  </thead>\n",
       "  <tbody>\n",
       "    <tr>\n",
       "      <th>0</th>\n",
       "      <td>1</td>\n",
       "      <td>3</td>\n",
       "      <td>3</td>\n",
       "      <td>メイショウドトウ</td>\n",
       "      <td>106</td>\n",
       "      <td>51</td>\n",
       "      <td>92</td>\n",
       "      <td>20</td>\n",
       "      <td>83</td>\n",
       "      <td>牡5</td>\n",
       "      <td>58</td>\n",
       "      <td>3.4</td>\n",
       "      <td>2</td>\n",
       "      <td>508(-6)</td>\n",
       "      <td>2001メイショウドトウ</td>\n",
       "      <td>3</td>\n",
       "      <td>2.739130</td>\n",
       "      <td>2</td>\n",
       "      <td>2.683576</td>\n",
       "      <td>81.818182</td>\n",
       "    </tr>\n",
       "    <tr>\n",
       "      <th>1</th>\n",
       "      <td>2</td>\n",
       "      <td>4</td>\n",
       "      <td>4</td>\n",
       "      <td>テイエムオペラオー</td>\n",
       "      <td>107</td>\n",
       "      <td>16</td>\n",
       "      <td>30</td>\n",
       "      <td>39</td>\n",
       "      <td>103</td>\n",
       "      <td>牡5</td>\n",
       "      <td>58</td>\n",
       "      <td>1.5</td>\n",
       "      <td>1</td>\n",
       "      <td>474(-4)</td>\n",
       "      <td>2001テイエムオペラオー</td>\n",
       "      <td>4</td>\n",
       "      <td>1.714286</td>\n",
       "      <td>1</td>\n",
       "      <td>1.055597</td>\n",
       "      <td>133.333333</td>\n",
       "    </tr>\n",
       "    <tr>\n",
       "      <th>2</th>\n",
       "      <td>3</td>\n",
       "      <td>5</td>\n",
       "      <td>6</td>\n",
       "      <td>ホットシークレット</td>\n",
       "      <td>110</td>\n",
       "      <td>6</td>\n",
       "      <td>109</td>\n",
       "      <td>29</td>\n",
       "      <td>78</td>\n",
       "      <td>セ5</td>\n",
       "      <td>58</td>\n",
       "      <td>41.7</td>\n",
       "      <td>8</td>\n",
       "      <td>450(-4)</td>\n",
       "      <td>2001ホットシークレット</td>\n",
       "      <td>13</td>\n",
       "      <td>5.208333</td>\n",
       "      <td>1</td>\n",
       "      <td>3.833255</td>\n",
       "      <td>0.000000</td>\n",
       "    </tr>\n",
       "    <tr>\n",
       "      <th>3</th>\n",
       "      <td>4</td>\n",
       "      <td>7</td>\n",
       "      <td>9</td>\n",
       "      <td>ステイゴールド</td>\n",
       "      <td>111</td>\n",
       "      <td>24</td>\n",
       "      <td>15</td>\n",
       "      <td>11</td>\n",
       "      <td>73</td>\n",
       "      <td>牡7</td>\n",
       "      <td>58</td>\n",
       "      <td>18.3</td>\n",
       "      <td>5</td>\n",
       "      <td>424(0)</td>\n",
       "      <td>2001ステイゴールド</td>\n",
       "      <td>2</td>\n",
       "      <td>4.000000</td>\n",
       "      <td>1</td>\n",
       "      <td>3.031580</td>\n",
       "      <td>7.692308</td>\n",
       "    </tr>\n",
       "    <tr>\n",
       "      <th>4</th>\n",
       "      <td>5</td>\n",
       "      <td>6</td>\n",
       "      <td>8</td>\n",
       "      <td>エアシャカール</td>\n",
       "      <td>112</td>\n",
       "      <td>42</td>\n",
       "      <td>11</td>\n",
       "      <td>84</td>\n",
       "      <td>48</td>\n",
       "      <td>牡4</td>\n",
       "      <td>58</td>\n",
       "      <td>13.4</td>\n",
       "      <td>3</td>\n",
       "      <td>500(-8)</td>\n",
       "      <td>2001エアシャカール</td>\n",
       "      <td>6</td>\n",
       "      <td>3.500000</td>\n",
       "      <td>8</td>\n",
       "      <td>3.896385</td>\n",
       "      <td>72.916667</td>\n",
       "    </tr>\n",
       "  </tbody>\n",
       "</table>\n",
       "</div>"
      ],
      "text/plain": [
       "   rank  frame_number  horse_number horse_name  aptitude_course  \\\n",
       "0     1             3             3   メイショウドトウ              106   \n",
       "1     2             4             4  テイエムオペラオー              107   \n",
       "2     3             5             6  ホットシークレット              110   \n",
       "3     4             7             9    ステイゴールド              111   \n",
       "4     5             6             8    エアシャカール              112   \n",
       "\n",
       "   aptitude_distance  aptitude_run  aptitude_growth  aptitude_ground age  \\\n",
       "0                 51            92               20               83  牡5   \n",
       "1                 16            30               39              103  牡5   \n",
       "2                  6           109               29               78  セ5   \n",
       "3                 24            15               11               73  牡7   \n",
       "4                 42            11               84               48  牡4   \n",
       "\n",
       "   weight  odds  popularity horse_weight horse_data_key  race_count  \\\n",
       "0      58   3.4           2      508(-6)   2001メイショウドトウ           3   \n",
       "1      58   1.5           1      474(-4)  2001テイエムオペラオー           4   \n",
       "2      58  41.7           8      450(-4)  2001ホットシークレット          13   \n",
       "3      58  18.3           5       424(0)    2001ステイゴールド           2   \n",
       "4      58  13.4           3      500(-8)    2001エアシャカール           6   \n",
       "\n",
       "   past_rank_ave  before_race_rank  past_rank_std  ave_race_score  \n",
       "0       2.739130                 2       2.683576       81.818182  \n",
       "1       1.714286                 1       1.055597      133.333333  \n",
       "2       5.208333                 1       3.833255        0.000000  \n",
       "3       4.000000                 1       3.031580        7.692308  \n",
       "4       3.500000                 8       3.896385       72.916667  "
      ]
     },
     "execution_count": 13,
     "metadata": {},
     "output_type": "execute_result"
    }
   ],
   "source": [
    "df_races_2 = df_races.copy()\n",
    "drop_columns = ['trainer', 'owner', 'jockey', 'reward', 'difference', 'lap_time', 'final_3F', 'time', 'time_score']\n",
    "for i in range(len(df_races_2)):\n",
    "    df_races_2[i].fillna({'time_score': '**'})\n",
    "    df_races_2[i].dropna(how='all', axis = 1, inplace=True)\n",
    "    df_races_2[i] = rank_to_int(df_races_2[i])\n",
    "    df_races_2[i] = df_races_2[i].drop(columns = drop_columns, errors = 'ignore')\n",
    "    df_races_2[i]['horse_data_key'] = df_races_2[i].apply(road_horse_data, num = i, axis = 1)\n",
    "    df_races_2[i]['race_count'] = df_races_2[i].apply(serch_past_races, num = i, axis = 1)\n",
    "    df_races_2[i] = feature_creation(df_races_2[i])\n",
    "df_races_2[0].head(5)"
   ]
  },
  {
   "cell_type": "markdown",
   "metadata": {},
   "source": [
    "### レースの特徴表示"
   ]
  },
  {
   "cell_type": "code",
   "execution_count": 14,
   "metadata": {
    "scrolled": true
   },
   "outputs": [
    {
     "data": {
      "text/plain": [
       "283"
      ]
     },
     "execution_count": 14,
     "metadata": {},
     "output_type": "execute_result"
    }
   ],
   "source": [
    "df_all_races = pd.concat(df_races_2)\n",
    "len(df_all_races)"
   ]
  },
  {
   "cell_type": "code",
   "execution_count": 15,
   "metadata": {},
   "outputs": [],
   "source": [
    "df_all_races_rank = []\n",
    "df_all_races_rank.append(df_all_races[df_all_races['rank'] == 1])\n",
    "df_all_races_rank.append(df_all_races[df_all_races['rank'] <= 3])\n",
    "df_all_races_rank.append(df_all_races)"
   ]
  },
  {
   "cell_type": "code",
   "execution_count": 16,
   "metadata": {},
   "outputs": [],
   "source": [
    "def plot_count_columns(column_name, _bins = 20, _range = (0, 20)):\n",
    "    title = [\"Rank1\", \"InTicket\", \"All\"]\n",
    "    fig = plt.figure(figsize=(10, 10))\n",
    "    for i in range(len(df_all_races_rank)):\n",
    "        plt.subplot(len(df_all_races_rank), 3, i+1)\n",
    "        plt.title(title[i] + \"_\" + column_name)\n",
    "        plt.hist(df_all_races_rank[i][column_name], bins=_bins, range = _range)\n",
    "        plt.tight_layout()\n",
    "        print(title[i] + \"：サンプル数\" + str(len(df_all_races_rank[i])))"
   ]
  },
  {
   "cell_type": "markdown",
   "metadata": {},
   "source": [
    "過去20年で1着及び馬券内だった馬の枠番"
   ]
  },
  {
   "cell_type": "code",
   "execution_count": 17,
   "metadata": {
    "scrolled": false
   },
   "outputs": [
    {
     "name": "stdout",
     "output_type": "stream",
     "text": [
      "Rank1：サンプル数21\n",
      "InTicket：サンプル数58\n",
      "All：サンプル数283\n"
     ]
    },
    {
     "data": {
      "image/png": "[encoded data removed]",
      "text/plain": [
       "<Figure size 720x720 with 3 Axes>"
      ]
     },
     "metadata": {
      "needs_background": "light"
     },
     "output_type": "display_data"
    }
   ],
   "source": [
    "plot_count_columns('frame_number', 8, (1, 8))"
   ]
  },
  {
   "cell_type": "markdown",
   "metadata": {},
   "source": [
    "過去20年で1着及び馬券内だった馬の芝適性"
   ]
  },
  {
   "cell_type": "code",
   "execution_count": 18,
   "metadata": {},
   "outputs": [
    {
     "name": "stdout",
     "output_type": "stream",
     "text": [
      "Rank1：サンプル数21\n",
      "InTicket：サンプル数58\n",
      "All：サンプル数283\n"
     ]
    },
    {
     "data": {
      "image/png": "[encoded data removed]",
      "text/plain": [
       "<Figure size 720x720 with 3 Axes>"
      ]
     },
     "metadata": {
      "needs_background": "light"
     },
     "output_type": "display_data"
    }
   ],
   "source": [
    "plot_count_columns(\"aptitude_course\", _range = (80, 120))"
   ]
  },
  {
   "cell_type": "markdown",
   "metadata": {},
   "source": [
    "過去20年で1着及び馬券内だった馬の距離適性(高いほど短距離得意)"
   ]
  },
  {
   "cell_type": "code",
   "execution_count": 19,
   "metadata": {},
   "outputs": [
    {
     "name": "stdout",
     "output_type": "stream",
     "text": [
      "Rank1：サンプル数21\n",
      "InTicket：サンプル数58\n",
      "All：サンプル数283\n"
     ]
    },
    {
     "data": {
      "image/png": "[encoded data removed]",
      "text/plain": [
       "<Figure size 720x720 with 3 Axes>"
      ]
     },
     "metadata": {
      "needs_background": "light"
     },
     "output_type": "display_data"
    }
   ],
   "source": [
    "plot_count_columns(\"aptitude_distance\", _range = (0, 120))"
   ]
  },
  {
   "cell_type": "markdown",
   "metadata": {},
   "source": [
    "過去20年で1着及び馬券内だった馬の脚質適性(高いほど逃げ)"
   ]
  },
  {
   "cell_type": "code",
   "execution_count": 20,
   "metadata": {},
   "outputs": [
    {
     "name": "stdout",
     "output_type": "stream",
     "text": [
      "Rank1：サンプル数21\n",
      "InTicket：サンプル数58\n",
      "All：サンプル数283\n"
     ]
    },
    {
     "data": {
      "image/png": "[encoded data removed]",
      "text/plain": [
       "<Figure size 720x720 with 3 Axes>"
      ]
     },
     "metadata": {
      "needs_background": "light"
     },
     "output_type": "display_data"
    }
   ],
   "source": [
    "plot_count_columns(\"aptitude_run\", _range = (0, 120))"
   ]
  },
  {
   "cell_type": "markdown",
   "metadata": {},
   "source": [
    "過去20年で1着及び馬券内だった馬の成長適性(高いほど早熟)"
   ]
  },
  {
   "cell_type": "code",
   "execution_count": 21,
   "metadata": {},
   "outputs": [
    {
     "name": "stdout",
     "output_type": "stream",
     "text": [
      "Rank1：サンプル数21\n",
      "InTicket：サンプル数58\n",
      "All：サンプル数283\n"
     ]
    },
    {
     "data": {
      "image/png": "[encoded data removed]",
      "text/plain": [
       "<Figure size 720x720 with 3 Axes>"
      ]
     },
     "metadata": {
      "needs_background": "light"
     },
     "output_type": "display_data"
    }
   ],
   "source": [
    "plot_count_columns(\"aptitude_growth\", _range = (0, 120))"
   ]
  },
  {
   "cell_type": "markdown",
   "metadata": {},
   "source": [
    "過去20年で1着及び馬券内だった馬の馬場適性(高いほど重馬場得意)"
   ]
  },
  {
   "cell_type": "code",
   "execution_count": 22,
   "metadata": {},
   "outputs": [
    {
     "name": "stdout",
     "output_type": "stream",
     "text": [
      "Rank1：サンプル数21\n",
      "InTicket：サンプル数58\n",
      "All：サンプル数283\n"
     ]
    },
    {
     "data": {
      "image/png": "[encoded data removed]",
      "text/plain": [
       "<Figure size 720x720 with 3 Axes>"
      ]
     },
     "metadata": {
      "needs_background": "light"
     },
     "output_type": "display_data"
    }
   ],
   "source": [
    "plot_count_columns(\"aptitude_ground\", _range = (0, 120))"
   ]
  },
  {
   "cell_type": "markdown",
   "metadata": {},
   "source": [
    "過去20年で1着及び馬券内だった馬の過去レース順位平均値"
   ]
  },
  {
   "cell_type": "code",
   "execution_count": 23,
   "metadata": {},
   "outputs": [
    {
     "name": "stdout",
     "output_type": "stream",
     "text": [
      "Rank1：サンプル数21\n",
      "InTicket：サンプル数58\n",
      "All：サンプル数283\n"
     ]
    },
    {
     "data": {
      "image/png": "[encoded data removed]",
      "text/plain": [
       "<Figure size 720x720 with 3 Axes>"
      ]
     },
     "metadata": {
      "needs_background": "light"
     },
     "output_type": "display_data"
    }
   ],
   "source": [
    "plot_count_columns(\"past_rank_ave\", 18,_range = (1, 18))"
   ]
  },
  {
   "cell_type": "markdown",
   "metadata": {},
   "source": [
    "過去20年で1着及び馬券内だった馬の前走着順"
   ]
  },
  {
   "cell_type": "code",
   "execution_count": 24,
   "metadata": {},
   "outputs": [
    {
     "name": "stdout",
     "output_type": "stream",
     "text": [
      "Rank1：サンプル数21\n",
      "InTicket：サンプル数58\n",
      "All：サンプル数283\n"
     ]
    },
    {
     "data": {
      "image/png": "[encoded data removed]",
      "text/plain": [
       "<Figure size 720x720 with 3 Axes>"
      ]
     },
     "metadata": {
      "needs_background": "light"
     },
     "output_type": "display_data"
    }
   ],
   "source": [
    "plot_count_columns(\"before_race_rank\", 18,_range = (1, 18))"
   ]
  },
  {
   "cell_type": "markdown",
   "metadata": {},
   "source": [
    "過去レースの順位データに(G1)などのレースの格を数値化して計算した平均を算出"
   ]
  },
  {
   "cell_type": "code",
   "execution_count": 25,
   "metadata": {},
   "outputs": [
    {
     "name": "stdout",
     "output_type": "stream",
     "text": [
      "Rank1：サンプル数21\n",
      "InTicket：サンプル数58\n",
      "All：サンプル数283\n"
     ]
    },
    {
     "data": {
      "image/png": "[encoded data removed]",
      "text/plain": [
       "<Figure size 720x720 with 3 Axes>"
      ]
     },
     "metadata": {
      "needs_background": "light"
     },
     "output_type": "display_data"
    }
   ],
   "source": [
    "plot_count_columns(\"ave_race_score\", _range = (0, 200))"
   ]
  },
  {
   "cell_type": "markdown",
   "metadata": {},
   "source": [
    "### 特徴量抽出"
   ]
  },
  {
   "cell_type": "code",
   "execution_count": 26,
   "metadata": {},
   "outputs": [],
   "source": [
    "df_races_train = []\n",
    "df_races_test = []\n",
    "df_races_all = pd.concat(df_races_2)\n",
    "for i in range(len(df_races_2)):\n",
    "    tmp = []\n",
    "    for j in range(len(df_races_2)):\n",
    "        if (i == j):\n",
    "            df_races_test.append(df_races_2[j])\n",
    "        else:\n",
    "            tmp.append(df_races_2[j])\n",
    "    df_races_train.append(pd.concat(tmp))"
   ]
  },
  {
   "cell_type": "code",
   "execution_count": 27,
   "metadata": {},
   "outputs": [],
   "source": [
    "df_races_train_2 = df_races_train.copy()\n",
    "df_races_test_2 = df_races_test.copy()\n",
    "df_races_all_2 = df_races_all.copy()\n",
    "y_trains = []\n",
    "(df_races_all_2, y_all) = func.create_param(df_races_all_2)\n",
    "for i in range(len(df_races_train_2)):\n",
    "    (df_races_train_2[i], df_races_test_2[i], tmp) = func.create_params(df_races_train_2[i], df_races_test_2[i])\n",
    "    y_trains.append(tmp)"
   ]
  },
  {
   "cell_type": "markdown",
   "metadata": {},
   "source": [
    "### 2000～2019までのデータで2020年のレースを予測してみて正答率を確認する"
   ]
  },
  {
   "cell_type": "code",
   "execution_count": 28,
   "metadata": {},
   "outputs": [],
   "source": [
    "TEST_NUM = 15"
   ]
  },
  {
   "cell_type": "code",
   "execution_count": 29,
   "metadata": {},
   "outputs": [
    {
     "data": {
      "text/html": [
       "<div>\n",
       "<style scoped>\n",
       "    .dataframe tbody tr th:only-of-type {\n",
       "        vertical-align: middle;\n",
       "    }\n",
       "\n",
       "    .dataframe tbody tr th {\n",
       "        vertical-align: top;\n",
       "    }\n",
       "\n",
       "    .dataframe thead th {\n",
       "        text-align: right;\n",
       "    }\n",
       "</style>\n",
       "<table border=\"1\" class=\"dataframe\">\n",
       "  <thead>\n",
       "    <tr style=\"text-align: right;\">\n",
       "      <th></th>\n",
       "      <th>frame_number</th>\n",
       "      <th>aptitude_course</th>\n",
       "      <th>aptitude_distance</th>\n",
       "      <th>aptitude_run</th>\n",
       "      <th>aptitude_growth</th>\n",
       "      <th>aptitude_ground</th>\n",
       "      <th>weight</th>\n",
       "      <th>race_count</th>\n",
       "      <th>past_rank_ave</th>\n",
       "      <th>before_race_rank</th>\n",
       "      <th>past_rank_std</th>\n",
       "      <th>ave_race_score</th>\n",
       "    </tr>\n",
       "  </thead>\n",
       "  <tbody>\n",
       "    <tr>\n",
       "      <th>0</th>\n",
       "      <td>3</td>\n",
       "      <td>106</td>\n",
       "      <td>51</td>\n",
       "      <td>92</td>\n",
       "      <td>20</td>\n",
       "      <td>83</td>\n",
       "      <td>58</td>\n",
       "      <td>3</td>\n",
       "      <td>2.73913</td>\n",
       "      <td>2</td>\n",
       "      <td>2.683576</td>\n",
       "      <td>81.818182</td>\n",
       "    </tr>\n",
       "  </tbody>\n",
       "</table>\n",
       "</div>"
      ],
      "text/plain": [
       "   frame_number  aptitude_course  aptitude_distance  aptitude_run  \\\n",
       "0             3              106                 51            92   \n",
       "\n",
       "   aptitude_growth  aptitude_ground  weight  race_count  past_rank_ave  \\\n",
       "0               20               83      58           3        2.73913   \n",
       "\n",
       "   before_race_rank  past_rank_std  ave_race_score  \n",
       "0                 2       2.683576       81.818182  "
      ]
     },
     "execution_count": 29,
     "metadata": {},
     "output_type": "execute_result"
    }
   ],
   "source": [
    "df_races_test_2[0].head(1)"
   ]
  },
  {
   "cell_type": "code",
   "execution_count": 30,
   "metadata": {},
   "outputs": [],
   "source": [
    "y_train = y_trains[TEST_NUM]"
   ]
  },
  {
   "cell_type": "code",
   "execution_count": 31,
   "metadata": {},
   "outputs": [
    {
     "data": {
      "text/plain": [
       "(267, 12)"
      ]
     },
     "execution_count": 31,
     "metadata": {},
     "output_type": "execute_result"
    }
   ],
   "source": [
    "X_train = df_races_train_2[TEST_NUM].values.astype(np.float)\n",
    "X_train.shape"
   ]
  },
  {
   "cell_type": "code",
   "execution_count": 32,
   "metadata": {},
   "outputs": [
    {
     "data": {
      "text/plain": [
       "(16, 12)"
      ]
     },
     "execution_count": 32,
     "metadata": {},
     "output_type": "execute_result"
    }
   ],
   "source": [
    "X_test = df_races_test_2[TEST_NUM].values.astype(np.float)\n",
    "X_test.shape"
   ]
  },
  {
   "cell_type": "code",
   "execution_count": 33,
   "metadata": {
    "scrolled": true
   },
   "outputs": [],
   "source": [
    "mm = preprocessing.MinMaxScaler()\n",
    "X_train = mm.fit_transform(X_train)\n",
    "X_test = mm.fit_transform(X_test)"
   ]
  },
  {
   "cell_type": "markdown",
   "metadata": {},
   "source": [
    "### 機械学習開始"
   ]
  },
  {
   "cell_type": "code",
   "execution_count": 34,
   "metadata": {},
   "outputs": [],
   "source": [
    "# 機械学習のモデルを読み込む\n",
    "from sklearn import tree\n",
    "from sklearn import svm\n",
    "from sklearn import ensemble\n",
    "from sklearn import neighbors\n",
    "from sklearn import linear_model\n",
    "\n",
    "# 機械学習のお役立ちモジュールを読み込む\n",
    "from sklearn.model_selection import cross_val_score\n",
    "from sklearn.model_selection import StratifiedKFold\n",
    "from sklearn import metrics"
   ]
  },
  {
   "cell_type": "code",
   "execution_count": 35,
   "metadata": {},
   "outputs": [],
   "source": [
    "def stratified_cv(X, y, clf_class, shuffle=True, n_folds=10, **kwargs):\n",
    "    stratified_k_fold = StratifiedKFold(n_splits = n_folds, shuffle = shuffle).split(X, y)\n",
    "    y_pred = y.copy()\n",
    "    for ii, jj in stratified_k_fold:\n",
    "        X_train, X_test = X[ii], X[jj]\n",
    "        y_train = y[ii]\n",
    "        clf = clf_class(**kwargs)\n",
    "        clf.fit(X_train, y_train)\n",
    "        y_pred[jj] = clf.predict(X_test)\n",
    "    return y_pred"
   ]
  },
  {
   "cell_type": "markdown",
   "metadata": {},
   "source": [
    "5つの学習モデルで正答率比較　(Dump Classifierはすべての入力に0を返すモデル)"
   ]
  },
  {
   "cell_type": "code",
   "execution_count": 36,
   "metadata": {},
   "outputs": [
    {
     "name": "stdout",
     "output_type": "stream",
     "text": [
      "Passive Aggressive Classifier: 0.674\n",
      "Gradient Boosting Classifier:  0.757\n",
      "Support vector machine(SVM):   0.794\n",
      "Random Forest Classifier:      0.805\n",
      "K Nearest Neighbor Classifier: 0.809\n",
      "Dump Classifier: 0.790\n"
     ]
    }
   ],
   "source": [
    "print('Passive Aggressive Classifier: {:.3f}'.format(metrics.accuracy_score(y_train, stratified_cv(X_train, y_train, linear_model.PassiveAggressiveClassifier))))\n",
    "print('Gradient Boosting Classifier:  {:.3f}'.format(metrics.accuracy_score(y_train, stratified_cv(X_train, y_train, ensemble.GradientBoostingClassifier))))\n",
    "print('Support vector machine(SVM):   {:.3f}'.format(metrics.accuracy_score(y_train, stratified_cv(X_train, y_train, svm.SVC))))\n",
    "print('Random Forest Classifier:      {:.3f}'.format(metrics.accuracy_score(y_train, stratified_cv(X_train, y_train, ensemble.RandomForestClassifier))))\n",
    "print('K Nearest Neighbor Classifier: {:.3f}'.format(metrics.accuracy_score(y_train, stratified_cv(X_train, y_train, neighbors.KNeighborsClassifier))))\n",
    "print('Dump Classifier: {:.3f}'.format(metrics.accuracy_score(y_train, [0 for ii in y_train.tolist()])))"
   ]
  },
  {
   "cell_type": "markdown",
   "metadata": {},
   "source": [
    "### 正答率の高かったモデルが予測時に何を重要視したかを出力"
   ]
  },
  {
   "cell_type": "code",
   "execution_count": 37,
   "metadata": {},
   "outputs": [
    {
     "data": {
      "text/plain": [
       "RandomForestClassifier()"
      ]
     },
     "execution_count": 37,
     "metadata": {},
     "output_type": "execute_result"
    }
   ],
   "source": [
    "# linear_model.PassiveAggressiveClassifier()\n",
    "# ensemble.GradientBoostingClassifier()\n",
    "# svm.SVC()\n",
    "# ensemble.RandomForestClassifier()\n",
    "# neighbors.KNeighborsClassifier()\n",
    "\n",
    "model = ensemble.RandomForestClassifier()\n",
    "model.fit(X_train, y_train)"
   ]
  },
  {
   "cell_type": "code",
   "execution_count": 38,
   "metadata": {},
   "outputs": [
    {
     "data": {
      "image/png": "[encoded data removed]",
      "text/plain": [
       "<Figure size 576x360 with 1 Axes>"
      ]
     },
     "metadata": {
      "needs_background": "light"
     },
     "output_type": "display_data"
    },
    {
     "name": "stdout",
     "output_type": "stream",
     "text": [
      "before_race_rank, perturbation effect: 13.90%\n",
      "ave_race_score, perturbation effect: 12.43%\n",
      "past_rank_ave, perturbation effect: 11.35%\n",
      "past_rank_std, perturbation effect: 10.15%\n",
      "aptitude_ground, perturbation effect: 9.50%\n",
      "aptitude_course, perturbation effect: 8.03%\n",
      "aptitude_distance, perturbation effect: 8.03%\n",
      "aptitude_course, perturbation effect: 7.18%\n",
      "aptitude_distance, perturbation effect: 7.18%\n",
      "aptitude_run, perturbation effect: 7.18%\n",
      "aptitude_growth, perturbation effect: 5.08%\n",
      "race_count, perturbation effect: 0.00%\n"
     ]
    }
   ],
   "source": [
    "func.plot_importance(func.calc_importance(model, X_train), df_races_test_2[0].columns.values)\n",
    "func.print_importance(func.calc_importance(model, X_train), df_races_test_2[0].columns.values)"
   ]
  },
  {
   "cell_type": "markdown",
   "metadata": {},
   "source": [
    "予測結果出力"
   ]
  },
  {
   "cell_type": "code",
   "execution_count": 39,
   "metadata": {},
   "outputs": [
    {
     "name": "stdout",
     "output_type": "stream",
     "text": [
      "[0 0 0 0 0 0 0 0 0 0 0 0 0 0 0 0]\n"
     ]
    }
   ],
   "source": [
    "y_pred = model.predict(X_test)\n",
    "print(y_pred)\n",
    "for i in range(len(y_pred)):\n",
    "    if (y_pred[i]):\n",
    "        print(df_races_2[TEST_NUM].iloc[[i]]['horse_name'])"
   ]
  },
  {
   "cell_type": "markdown",
   "metadata": {},
   "source": [
    "### 今年のレースを予測"
   ]
  },
  {
   "cell_type": "code",
   "execution_count": 40,
   "metadata": {},
   "outputs": [],
   "source": [
    "PRED_RACE_COLUMNS = [\n",
    "    \"frame_number\",\n",
    "    \"horse_number\",\n",
    "    \"mark\",\n",
    "    \"horse_name\",\n",
    "    \"url\",\n",
    "    \"aptitude_course\",\n",
    "    \"aptitude_distance\",\n",
    "    \"aptitude_run\",\n",
    "    \"aptitude_growth\",\n",
    "    \"aptitude_ground\",\n",
    "    \"age\",\n",
    "    \"weight\",\n",
    "    \"jockey\",\n",
    "    \"trainer\",\n",
    "    \"blank_1\",\n",
    "    \"blank_2\",\n",
    "    \"blank_3\",\n",
    "    \"blank_4\",\n",
    "    \"blank_5\"\n",
    "]"
   ]
  },
  {
   "cell_type": "code",
   "execution_count": 41,
   "metadata": {},
   "outputs": [
    {
     "data": {
      "text/plain": [
       "'202109030411'"
      ]
     },
     "execution_count": 41,
     "metadata": {},
     "output_type": "execute_result"
    }
   ],
   "source": [
    "TRAIN_RACE_ID[0]"
   ]
  },
  {
   "cell_type": "code",
   "execution_count": 42,
   "metadata": {},
   "outputs": [],
   "source": [
    "RACE_NAME = RACE_NAME_2"
   ]
  },
  {
   "cell_type": "code",
   "execution_count": 43,
   "metadata": {},
   "outputs": [],
   "source": [
    "df_pred_race = pd.read_csv(CSV_DIR+ RACE + str(int(TRAIN_RACE_ID[0][:4]) + 1) + RACE_NAME_2 + \".csv\", header=None, names = PRED_RACE_COLUMNS, encoding='shift_jis')"
   ]
  },
  {
   "cell_type": "code",
   "execution_count": 44,
   "metadata": {
    "scrolled": true
   },
   "outputs": [
    {
     "data": {
      "text/html": [
       "<div>\n",
       "<style scoped>\n",
       "    .dataframe tbody tr th:only-of-type {\n",
       "        vertical-align: middle;\n",
       "    }\n",
       "\n",
       "    .dataframe tbody tr th {\n",
       "        vertical-align: top;\n",
       "    }\n",
       "\n",
       "    .dataframe thead th {\n",
       "        text-align: right;\n",
       "    }\n",
       "</style>\n",
       "<table border=\"1\" class=\"dataframe\">\n",
       "  <thead>\n",
       "    <tr style=\"text-align: right;\">\n",
       "      <th></th>\n",
       "      <th>frame_number</th>\n",
       "      <th>horse_number</th>\n",
       "      <th>mark</th>\n",
       "      <th>horse_name</th>\n",
       "      <th>url</th>\n",
       "      <th>aptitude_course</th>\n",
       "      <th>aptitude_distance</th>\n",
       "      <th>aptitude_run</th>\n",
       "      <th>aptitude_growth</th>\n",
       "      <th>aptitude_ground</th>\n",
       "      <th>age</th>\n",
       "      <th>weight</th>\n",
       "      <th>jockey</th>\n",
       "      <th>trainer</th>\n",
       "      <th>blank_1</th>\n",
       "      <th>blank_2</th>\n",
       "      <th>blank_3</th>\n",
       "      <th>blank_4</th>\n",
       "      <th>blank_5</th>\n",
       "    </tr>\n",
       "  </thead>\n",
       "  <tbody>\n",
       "    <tr>\n",
       "      <th>0</th>\n",
       "      <td>1</td>\n",
       "      <td>1</td>\n",
       "      <td>--◎◯▲△☆&amp;#10003消</td>\n",
       "      <td>オーソリティ</td>\n",
       "      <td>https://db.netkeiba.com/horse/2017105649</td>\n",
       "      <td>116</td>\n",
       "      <td>15</td>\n",
       "      <td>54</td>\n",
       "      <td>11</td>\n",
       "      <td>94</td>\n",
       "      <td>牡5</td>\n",
       "      <td>58.0</td>\n",
       "      <td>ルメール</td>\n",
       "      <td>美浦木村</td>\n",
       "      <td>NaN</td>\n",
       "      <td>---.-</td>\n",
       "      <td>**</td>\n",
       "      <td>NaN</td>\n",
       "      <td>NaN</td>\n",
       "    </tr>\n",
       "    <tr>\n",
       "      <th>1</th>\n",
       "      <td>1</td>\n",
       "      <td>2</td>\n",
       "      <td>--◎◯▲△☆&amp;#10003消</td>\n",
       "      <td>アフリカンゴールド</td>\n",
       "      <td>https://db.netkeiba.com/horse/2015101654</td>\n",
       "      <td>116</td>\n",
       "      <td>1</td>\n",
       "      <td>69</td>\n",
       "      <td>29</td>\n",
       "      <td>72</td>\n",
       "      <td>セ7</td>\n",
       "      <td>58.0</td>\n",
       "      <td>国分恭</td>\n",
       "      <td>栗東西園正</td>\n",
       "      <td>NaN</td>\n",
       "      <td>---.-</td>\n",
       "      <td>**</td>\n",
       "      <td>NaN</td>\n",
       "      <td>NaN</td>\n",
       "    </tr>\n",
       "    <tr>\n",
       "      <th>2</th>\n",
       "      <td>2</td>\n",
       "      <td>3</td>\n",
       "      <td>--◎◯▲△☆&amp;#10003消</td>\n",
       "      <td>メロディーレーン</td>\n",
       "      <td>https://db.netkeiba.com/horse/2016105526</td>\n",
       "      <td>116</td>\n",
       "      <td>2</td>\n",
       "      <td>5</td>\n",
       "      <td>14</td>\n",
       "      <td>79</td>\n",
       "      <td>牝6</td>\n",
       "      <td>56.0</td>\n",
       "      <td>団野</td>\n",
       "      <td>栗東森田</td>\n",
       "      <td>NaN</td>\n",
       "      <td>---.-</td>\n",
       "      <td>**</td>\n",
       "      <td>NaN</td>\n",
       "      <td>NaN</td>\n",
       "    </tr>\n",
       "    <tr>\n",
       "      <th>3</th>\n",
       "      <td>2</td>\n",
       "      <td>4</td>\n",
       "      <td>--◎◯▲△☆&amp;#10003消</td>\n",
       "      <td>エフフォーリア</td>\n",
       "      <td>https://db.netkeiba.com/horse/2018105027</td>\n",
       "      <td>116</td>\n",
       "      <td>44</td>\n",
       "      <td>92</td>\n",
       "      <td>59</td>\n",
       "      <td>82</td>\n",
       "      <td>牡4</td>\n",
       "      <td>58.0</td>\n",
       "      <td>横山武</td>\n",
       "      <td>美浦鹿戸</td>\n",
       "      <td>NaN</td>\n",
       "      <td>---.-</td>\n",
       "      <td>**</td>\n",
       "      <td>NaN</td>\n",
       "      <td>NaN</td>\n",
       "    </tr>\n",
       "    <tr>\n",
       "      <th>4</th>\n",
       "      <td>3</td>\n",
       "      <td>5</td>\n",
       "      <td>--◎◯▲△☆&amp;#10003消</td>\n",
       "      <td>アイアンバローズ</td>\n",
       "      <td>https://db.netkeiba.com/horse/2017105477</td>\n",
       "      <td>58</td>\n",
       "      <td>58</td>\n",
       "      <td>58</td>\n",
       "      <td>58</td>\n",
       "      <td>58</td>\n",
       "      <td>牡5</td>\n",
       "      <td>58.0</td>\n",
       "      <td>石橋脩</td>\n",
       "      <td>栗東上村</td>\n",
       "      <td>NaN</td>\n",
       "      <td>---.-</td>\n",
       "      <td>**</td>\n",
       "      <td>NaN</td>\n",
       "      <td>NaN</td>\n",
       "    </tr>\n",
       "  </tbody>\n",
       "</table>\n",
       "</div>"
      ],
      "text/plain": [
       "   frame_number  horse_number             mark horse_name  \\\n",
       "0             1             1  --◎◯▲△☆&#10003消     オーソリティ   \n",
       "1             1             2  --◎◯▲△☆&#10003消  アフリカンゴールド   \n",
       "2             2             3  --◎◯▲△☆&#10003消   メロディーレーン   \n",
       "3             2             4  --◎◯▲△☆&#10003消    エフフォーリア   \n",
       "4             3             5  --◎◯▲△☆&#10003消   アイアンバローズ   \n",
       "\n",
       "                                        url  aptitude_course  \\\n",
       "0  https://db.netkeiba.com/horse/2017105649              116   \n",
       "1  https://db.netkeiba.com/horse/2015101654              116   \n",
       "2  https://db.netkeiba.com/horse/2016105526              116   \n",
       "3  https://db.netkeiba.com/horse/2018105027              116   \n",
       "4  https://db.netkeiba.com/horse/2017105477               58   \n",
       "\n",
       "   aptitude_distance  aptitude_run  aptitude_growth  aptitude_ground age  \\\n",
       "0                 15            54               11               94  牡5   \n",
       "1                  1            69               29               72  セ7   \n",
       "2                  2             5               14               79  牝6   \n",
       "3                 44            92               59               82  牡4   \n",
       "4                 58            58               58               58  牡5   \n",
       "\n",
       "   weight jockey trainer  blank_1 blank_2 blank_3  blank_4  blank_5  \n",
       "0    58.0   ルメール    美浦木村      NaN   ---.-      **      NaN      NaN  \n",
       "1    58.0    国分恭   栗東西園正      NaN   ---.-      **      NaN      NaN  \n",
       "2    56.0     団野    栗東森田      NaN   ---.-      **      NaN      NaN  \n",
       "3    58.0    横山武    美浦鹿戸      NaN   ---.-      **      NaN      NaN  \n",
       "4    58.0    石橋脩    栗東上村      NaN   ---.-      **      NaN      NaN  "
      ]
     },
     "execution_count": 44,
     "metadata": {},
     "output_type": "execute_result"
    }
   ],
   "source": [
    "num = 21\n",
    "df_pred_race.head(5)"
   ]
  },
  {
   "cell_type": "code",
   "execution_count": 45,
   "metadata": {},
   "outputs": [],
   "source": [
    "df_pred_race_2 = df_pred_race.copy()\n",
    "drop_columns = ['trainer', 'owner', 'jockey', 'mark', 'url', 'blank_1', 'blank_2', 'blank_3', 'blank_4', 'blank_5']\n",
    "df_pred_race_2.fillna({'time_score': '**'})\n",
    "df_pred_race_2.dropna(how='all', axis = 1, inplace=True)\n",
    "df_pred_race_2 = df_pred_race_2.drop(columns = drop_columns, errors = 'ignore')\n",
    "df_pred_race_2['horse_data_key'] = df_pred_race_2.apply(road_horse_data, num = num, axis = 1)\n",
    "df_pred_race_2['race_count'] = df_pred_race_2.apply(lambda x: int(db_horses[x['horse_data_key']].shape[0]), axis = 1)\n",
    "df_pred_race_2 = feature_creation(df_pred_race_2, -1)"
   ]
  },
  {
   "cell_type": "code",
   "execution_count": 46,
   "metadata": {
    "scrolled": true
   },
   "outputs": [
    {
     "data": {
      "text/html": [
       "<div>\n",
       "<style scoped>\n",
       "    .dataframe tbody tr th:only-of-type {\n",
       "        vertical-align: middle;\n",
       "    }\n",
       "\n",
       "    .dataframe tbody tr th {\n",
       "        vertical-align: top;\n",
       "    }\n",
       "\n",
       "    .dataframe thead th {\n",
       "        text-align: right;\n",
       "    }\n",
       "</style>\n",
       "<table border=\"1\" class=\"dataframe\">\n",
       "  <thead>\n",
       "    <tr style=\"text-align: right;\">\n",
       "      <th></th>\n",
       "      <th>frame_number</th>\n",
       "      <th>horse_number</th>\n",
       "      <th>horse_name</th>\n",
       "      <th>aptitude_course</th>\n",
       "      <th>aptitude_distance</th>\n",
       "      <th>aptitude_run</th>\n",
       "      <th>aptitude_growth</th>\n",
       "      <th>aptitude_ground</th>\n",
       "      <th>age</th>\n",
       "      <th>weight</th>\n",
       "      <th>horse_data_key</th>\n",
       "      <th>race_count</th>\n",
       "      <th>past_rank_ave</th>\n",
       "      <th>before_race_rank</th>\n",
       "      <th>past_rank_std</th>\n",
       "      <th>ave_race_score</th>\n",
       "    </tr>\n",
       "  </thead>\n",
       "  <tbody>\n",
       "    <tr>\n",
       "      <th>0</th>\n",
       "      <td>1</td>\n",
       "      <td>1</td>\n",
       "      <td>オーソリティ</td>\n",
       "      <td>116</td>\n",
       "      <td>15</td>\n",
       "      <td>54</td>\n",
       "      <td>11</td>\n",
       "      <td>94</td>\n",
       "      <td>牡5</td>\n",
       "      <td>58.0</td>\n",
       "      <td>2022オーソリティ</td>\n",
       "      <td>11</td>\n",
       "      <td>3.727273</td>\n",
       "      <td>1</td>\n",
       "      <td>4.360984</td>\n",
       "      <td>63.636364</td>\n",
       "    </tr>\n",
       "    <tr>\n",
       "      <th>1</th>\n",
       "      <td>1</td>\n",
       "      <td>2</td>\n",
       "      <td>アフリカンゴールド</td>\n",
       "      <td>116</td>\n",
       "      <td>1</td>\n",
       "      <td>69</td>\n",
       "      <td>29</td>\n",
       "      <td>72</td>\n",
       "      <td>セ7</td>\n",
       "      <td>58.0</td>\n",
       "      <td>2022アフリカンゴールド</td>\n",
       "      <td>28</td>\n",
       "      <td>6.357143</td>\n",
       "      <td>9</td>\n",
       "      <td>4.628529</td>\n",
       "      <td>0.000000</td>\n",
       "    </tr>\n",
       "    <tr>\n",
       "      <th>2</th>\n",
       "      <td>2</td>\n",
       "      <td>3</td>\n",
       "      <td>メロディーレーン</td>\n",
       "      <td>116</td>\n",
       "      <td>2</td>\n",
       "      <td>5</td>\n",
       "      <td>14</td>\n",
       "      <td>79</td>\n",
       "      <td>牝6</td>\n",
       "      <td>56.0</td>\n",
       "      <td>2022メロディーレーン</td>\n",
       "      <td>28</td>\n",
       "      <td>7.535714</td>\n",
       "      <td>10</td>\n",
       "      <td>4.316052</td>\n",
       "      <td>0.000000</td>\n",
       "    </tr>\n",
       "    <tr>\n",
       "      <th>3</th>\n",
       "      <td>2</td>\n",
       "      <td>4</td>\n",
       "      <td>エフフォーリア</td>\n",
       "      <td>116</td>\n",
       "      <td>44</td>\n",
       "      <td>92</td>\n",
       "      <td>59</td>\n",
       "      <td>82</td>\n",
       "      <td>牡4</td>\n",
       "      <td>58.0</td>\n",
       "      <td>2022エフフォーリア</td>\n",
       "      <td>8</td>\n",
       "      <td>2.125000</td>\n",
       "      <td>1</td>\n",
       "      <td>2.799872</td>\n",
       "      <td>121.323529</td>\n",
       "    </tr>\n",
       "    <tr>\n",
       "      <th>4</th>\n",
       "      <td>3</td>\n",
       "      <td>5</td>\n",
       "      <td>アイアンバローズ</td>\n",
       "      <td>58</td>\n",
       "      <td>58</td>\n",
       "      <td>58</td>\n",
       "      <td>58</td>\n",
       "      <td>58</td>\n",
       "      <td>牡5</td>\n",
       "      <td>58.0</td>\n",
       "      <td>2022アイアンバローズ</td>\n",
       "      <td>19</td>\n",
       "      <td>4.368421</td>\n",
       "      <td>13</td>\n",
       "      <td>3.818239</td>\n",
       "      <td>12.500000</td>\n",
       "    </tr>\n",
       "  </tbody>\n",
       "</table>\n",
       "</div>"
      ],
      "text/plain": [
       "   frame_number  horse_number horse_name  aptitude_course  aptitude_distance  \\\n",
       "0             1             1     オーソリティ              116                 15   \n",
       "1             1             2  アフリカンゴールド              116                  1   \n",
       "2             2             3   メロディーレーン              116                  2   \n",
       "3             2             4    エフフォーリア              116                 44   \n",
       "4             3             5   アイアンバローズ               58                 58   \n",
       "\n",
       "   aptitude_run  aptitude_growth  aptitude_ground age  weight horse_data_key  \\\n",
       "0            54               11               94  牡5    58.0     2022オーソリティ   \n",
       "1            69               29               72  セ7    58.0  2022アフリカンゴールド   \n",
       "2             5               14               79  牝6    56.0   2022メロディーレーン   \n",
       "3            92               59               82  牡4    58.0    2022エフフォーリア   \n",
       "4            58               58               58  牡5    58.0   2022アイアンバローズ   \n",
       "\n",
       "   race_count  past_rank_ave  before_race_rank  past_rank_std  ave_race_score  \n",
       "0          11       3.727273                 1       4.360984       63.636364  \n",
       "1          28       6.357143                 9       4.628529        0.000000  \n",
       "2          28       7.535714                10       4.316052        0.000000  \n",
       "3           8       2.125000                 1       2.799872      121.323529  \n",
       "4          19       4.368421                13       3.818239       12.500000  "
      ]
     },
     "execution_count": 46,
     "metadata": {},
     "output_type": "execute_result"
    }
   ],
   "source": [
    "df_pred_race_2.head(5)"
   ]
  },
  {
   "cell_type": "code",
   "execution_count": 47,
   "metadata": {},
   "outputs": [
    {
     "data": {
      "text/html": [
       "<div>\n",
       "<style scoped>\n",
       "    .dataframe tbody tr th:only-of-type {\n",
       "        vertical-align: middle;\n",
       "    }\n",
       "\n",
       "    .dataframe tbody tr th {\n",
       "        vertical-align: top;\n",
       "    }\n",
       "\n",
       "    .dataframe thead th {\n",
       "        text-align: right;\n",
       "    }\n",
       "</style>\n",
       "<table border=\"1\" class=\"dataframe\">\n",
       "  <thead>\n",
       "    <tr style=\"text-align: right;\">\n",
       "      <th></th>\n",
       "      <th>frame_number</th>\n",
       "      <th>aptitude_course</th>\n",
       "      <th>aptitude_distance</th>\n",
       "      <th>aptitude_run</th>\n",
       "      <th>aptitude_growth</th>\n",
       "      <th>aptitude_ground</th>\n",
       "      <th>weight</th>\n",
       "      <th>race_count</th>\n",
       "      <th>past_rank_ave</th>\n",
       "      <th>before_race_rank</th>\n",
       "      <th>past_rank_std</th>\n",
       "      <th>ave_race_score</th>\n",
       "    </tr>\n",
       "  </thead>\n",
       "  <tbody>\n",
       "    <tr>\n",
       "      <th>0</th>\n",
       "      <td>1</td>\n",
       "      <td>116</td>\n",
       "      <td>15</td>\n",
       "      <td>54</td>\n",
       "      <td>11</td>\n",
       "      <td>94</td>\n",
       "      <td>58.0</td>\n",
       "      <td>11</td>\n",
       "      <td>3.727273</td>\n",
       "      <td>1</td>\n",
       "      <td>4.360984</td>\n",
       "      <td>63.636364</td>\n",
       "    </tr>\n",
       "  </tbody>\n",
       "</table>\n",
       "</div>"
      ],
      "text/plain": [
       "   frame_number  aptitude_course  aptitude_distance  aptitude_run  \\\n",
       "0             1              116                 15            54   \n",
       "\n",
       "   aptitude_growth  aptitude_ground  weight  race_count  past_rank_ave  \\\n",
       "0               11               94    58.0          11       3.727273   \n",
       "\n",
       "   before_race_rank  past_rank_std  ave_race_score  \n",
       "0                 1       4.360984       63.636364  "
      ]
     },
     "execution_count": 47,
     "metadata": {},
     "output_type": "execute_result"
    }
   ],
   "source": [
    "df_pred_race_3 = df_pred_race_2.copy()\n",
    "df_pred_race_3 = df_pred_race_3.drop(columns = [\"horse_name\", \"age\", \"horse_data_key\", \"horse_number\"])\n",
    "df_pred_race_3.head(1)"
   ]
  },
  {
   "cell_type": "code",
   "execution_count": 48,
   "metadata": {},
   "outputs": [],
   "source": [
    "df_pred_race_3.shape\n",
    "x_pred = df_pred_race_3.values.astype(np.float)"
   ]
  },
  {
   "cell_type": "code",
   "execution_count": 49,
   "metadata": {},
   "outputs": [],
   "source": [
    "X_all = df_races_all_2.values.astype(np.float)"
   ]
  },
  {
   "cell_type": "code",
   "execution_count": 50,
   "metadata": {},
   "outputs": [],
   "source": [
    "X_all = mm.fit_transform(X_all)\n",
    "x_pred = mm.fit_transform(x_pred)"
   ]
  },
  {
   "cell_type": "code",
   "execution_count": 66,
   "metadata": {},
   "outputs": [
    {
     "name": "stdout",
     "output_type": "stream",
     "text": [
      "[157, 0, 0, 109, 0, 69, 287, 0, 3, 52, 6, 2, 0, 1, 5, 0, 0, 15]\n",
      "Counter({'デアリングタクト': 287, 'オーソリティ': 157, 'エフフォーリア': 109, 'タイトルホルダー': 69, 'ヒシイグアス': 52, 'ポタジェ': 15, 'パンサラッサ': 6, 'ディープボンド': 5, 'マイネルファンロン': 3, 'ウインマリリン': 2, 'キングオブコージ': 1})\n"
     ]
    }
   ],
   "source": [
    "horse_names = df_pred_race_2['horse_name']\n",
    "models = []\n",
    "models.append(linear_model.PassiveAggressiveClassifier())\n",
    "models.append(ensemble.GradientBoostingClassifier())\n",
    "models.append(svm.SVC())\n",
    "models.append(ensemble.RandomForestClassifier())\n",
    "models.append(neighbors.KNeighborsClassifier())\n",
    "names = []\n",
    "preds = np.zeros(len(horse_names), dtype=np.int64)\n",
    "for _ in range(100):\n",
    "    for i in range(len(models)):\n",
    "        models[i].fit(X_all, y_all)\n",
    "        y_pred = models[i].predict(x_pred)\n",
    "        preds = preds + y_pred\n",
    "        for j in range(len(y_pred)):\n",
    "            if (y_pred[j]):\n",
    "                names.append(horse_names[j])\n",
    "print(preds.tolist())\n",
    "print(collections.Counter(names))"
   ]
  },
  {
   "cell_type": "code",
   "execution_count": null,
   "metadata": {},
   "outputs": [],
   "source": []
  }
 ],
 "metadata": {
  "kernelspec": {
   "display_name": "Python 3",
   "language": "python",
   "name": "python3"
  },
  "language_info": {
   "codemirror_mode": {
    "name": "ipython",
    "version": 3
   },
   "file_extension": ".py",
   "mimetype": "text/x-python",
   "name": "python",
   "nbconvert_exporter": "python",
   "pygments_lexer": "ipython3",
   "version": "3.8.5"
  }
 },
 "nbformat": 4,
 "nbformat_minor": 4
}
